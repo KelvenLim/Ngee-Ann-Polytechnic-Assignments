{
 "cells": [
  {
   "cell_type": "markdown",
   "metadata": {},
   "source": [
    "# Table of Contents <a id = \"top\"></a>\n",
    "\n",
    "### 0. [Import Libraries](#0)\n",
    "\n",
    "### 1. [HR Analytics](#1)\n",
    "- [1.1 Load and Explore the data](#1.1)\n",
    "- [1.2 Cleanse and Transform the data](#1.2)\n",
    " - [1.2.1 Remove nulls](#1.2.1)\n",
    " - [1.2.2 Map categorical values into integers](#1.2.2)\n",
    " - [1.2.3 Stratified Sampling](#1.2.3)\n",
    " - [1.2.4 Train-test Split](#1.2.4)\n",
    " - [1.2.5 Check for outliers](#1.2.5)\n",
    "   - [1.2.5.1 Before Transformation](#1.2.5.1)\n",
    "   - [1.2.5.2 After Transformation](#1.2.5.2)\n",
    " - [1.2.6 Standardise data](#1.2.6)\n",
    "- [1.3 Correlation Analysis](#1.3)\n",
    "- [1.4 Export the data](#1.4)\n",
    "\n",
    "### 2. [Airbnb](#2)\n",
    "- [2.1 Load and Explore the data](#2.1)\n",
    "- [2.2 Cleanse and Transform the data](#2.2)\n",
    " - [2.2.1 Remove nulls](#2.2.1)\n",
    " - [2.2.2 Map categorical values into integers](#2.2.2)\n",
    " - [2.2.3 Train-test Split](#2.2.3)\n",
    " - [2.2.4 Check for outliers](#2.2.4)\n",
    "   - [2.2.4.1 Before Transformation](#2.2.4.1)\n",
    "   - [2.2.4.2 After Transformation](#2.2.4.2)\n",
    " - [2.2.5 Standardise data](#2.2.5)\n",
    "- [2.3 Correlation Analysis](#2.3)\n",
    "- [2.4 Export the data](#2.4)\n",
    "\n",
    "### 3. [Unlisted YouTube Video](#3)"
   ]
  },
  {
   "cell_type": "markdown",
   "metadata": {},
   "source": [
    "# 0. Import Libraries <a id = \"0\"></a>\n",
    "\n",
    "[Back to top](#top)"
   ]
  },
  {
   "cell_type": "code",
   "execution_count": 1,
   "metadata": {},
   "outputs": [],
   "source": [
    "# import the required packages\n",
    "import pandas as pd\n",
    "import numpy as np\n",
    "\n",
    "# For plotting\n",
    "import matplotlib.pyplot as plt\n",
    "import seaborn as sns\n",
    "\n",
    "# From sklearn\n",
    "from sklearn.preprocessing import OneHotEncoder as ohe\n",
    "from sklearn.model_selection import train_test_split\n",
    "\n",
    "# From feature engine\n",
    "from feature_engine.transformation import YeoJohnsonTransformer\n",
    "\n",
    "# From statsmodel\n",
    "import statsmodels.api as sm"
   ]
  },
  {
   "cell_type": "markdown",
   "metadata": {},
   "source": [
    "# 1. HR Analytics <a id = \"1\"></a>\n",
    "\n",
    "[Back to top](#top)"
   ]
  },
  {
   "cell_type": "markdown",
   "metadata": {},
   "source": [
    "## 1.1 Load and Explore the data <a id = \"1.1\"></a>\n",
    "\n",
    "[Back to top](#top)"
   ]
  },
  {
   "cell_type": "code",
   "execution_count": 2,
   "metadata": {
    "scrolled": true
   },
   "outputs": [
    {
     "data": {
      "text/html": [
       "<div>\n",
       "<style scoped>\n",
       "    .dataframe tbody tr th:only-of-type {\n",
       "        vertical-align: middle;\n",
       "    }\n",
       "\n",
       "    .dataframe tbody tr th {\n",
       "        vertical-align: top;\n",
       "    }\n",
       "\n",
       "    .dataframe thead th {\n",
       "        text-align: right;\n",
       "    }\n",
       "</style>\n",
       "<table border=\"1\" class=\"dataframe\">\n",
       "  <thead>\n",
       "    <tr style=\"text-align: right;\">\n",
       "      <th></th>\n",
       "      <th>employee_id</th>\n",
       "      <th>department</th>\n",
       "      <th>region</th>\n",
       "      <th>education</th>\n",
       "      <th>gender</th>\n",
       "      <th>recruitment_channel</th>\n",
       "      <th>no_of_trainings</th>\n",
       "      <th>age</th>\n",
       "      <th>previous_year_rating</th>\n",
       "      <th>length_of_service</th>\n",
       "      <th>KPIs_met &gt;80%</th>\n",
       "      <th>awards_won?</th>\n",
       "      <th>avg_training_score</th>\n",
       "      <th>is_promoted</th>\n",
       "    </tr>\n",
       "  </thead>\n",
       "  <tbody>\n",
       "    <tr>\n",
       "      <th>0</th>\n",
       "      <td>65438</td>\n",
       "      <td>Sales &amp; Marketing</td>\n",
       "      <td>region_7</td>\n",
       "      <td>Master's &amp; above</td>\n",
       "      <td>f</td>\n",
       "      <td>sourcing</td>\n",
       "      <td>1</td>\n",
       "      <td>35</td>\n",
       "      <td>5.0</td>\n",
       "      <td>8</td>\n",
       "      <td>1</td>\n",
       "      <td>0</td>\n",
       "      <td>49</td>\n",
       "      <td>0</td>\n",
       "    </tr>\n",
       "    <tr>\n",
       "      <th>1</th>\n",
       "      <td>65141</td>\n",
       "      <td>Operations</td>\n",
       "      <td>region_22</td>\n",
       "      <td>Bachelor's</td>\n",
       "      <td>m</td>\n",
       "      <td>other</td>\n",
       "      <td>1</td>\n",
       "      <td>30</td>\n",
       "      <td>5.0</td>\n",
       "      <td>4</td>\n",
       "      <td>0</td>\n",
       "      <td>0</td>\n",
       "      <td>60</td>\n",
       "      <td>0</td>\n",
       "    </tr>\n",
       "    <tr>\n",
       "      <th>2</th>\n",
       "      <td>7513</td>\n",
       "      <td>Sales &amp; Marketing</td>\n",
       "      <td>region_19</td>\n",
       "      <td>Bachelor's</td>\n",
       "      <td>m</td>\n",
       "      <td>sourcing</td>\n",
       "      <td>1</td>\n",
       "      <td>34</td>\n",
       "      <td>3.0</td>\n",
       "      <td>7</td>\n",
       "      <td>0</td>\n",
       "      <td>0</td>\n",
       "      <td>50</td>\n",
       "      <td>0</td>\n",
       "    </tr>\n",
       "    <tr>\n",
       "      <th>3</th>\n",
       "      <td>2542</td>\n",
       "      <td>Sales &amp; Marketing</td>\n",
       "      <td>region_23</td>\n",
       "      <td>Bachelor's</td>\n",
       "      <td>m</td>\n",
       "      <td>other</td>\n",
       "      <td>2</td>\n",
       "      <td>39</td>\n",
       "      <td>1.0</td>\n",
       "      <td>10</td>\n",
       "      <td>0</td>\n",
       "      <td>0</td>\n",
       "      <td>50</td>\n",
       "      <td>0</td>\n",
       "    </tr>\n",
       "    <tr>\n",
       "      <th>4</th>\n",
       "      <td>48945</td>\n",
       "      <td>Technology</td>\n",
       "      <td>region_26</td>\n",
       "      <td>Bachelor's</td>\n",
       "      <td>m</td>\n",
       "      <td>other</td>\n",
       "      <td>1</td>\n",
       "      <td>45</td>\n",
       "      <td>3.0</td>\n",
       "      <td>2</td>\n",
       "      <td>0</td>\n",
       "      <td>0</td>\n",
       "      <td>73</td>\n",
       "      <td>0</td>\n",
       "    </tr>\n",
       "  </tbody>\n",
       "</table>\n",
       "</div>"
      ],
      "text/plain": [
       "   employee_id         department     region         education gender  \\\n",
       "0        65438  Sales & Marketing   region_7  Master's & above      f   \n",
       "1        65141         Operations  region_22        Bachelor's      m   \n",
       "2         7513  Sales & Marketing  region_19        Bachelor's      m   \n",
       "3         2542  Sales & Marketing  region_23        Bachelor's      m   \n",
       "4        48945         Technology  region_26        Bachelor's      m   \n",
       "\n",
       "  recruitment_channel  no_of_trainings  age  previous_year_rating  \\\n",
       "0            sourcing                1   35                   5.0   \n",
       "1               other                1   30                   5.0   \n",
       "2            sourcing                1   34                   3.0   \n",
       "3               other                2   39                   1.0   \n",
       "4               other                1   45                   3.0   \n",
       "\n",
       "   length_of_service  KPIs_met >80%  awards_won?  avg_training_score  \\\n",
       "0                  8              1            0                  49   \n",
       "1                  4              0            0                  60   \n",
       "2                  7              0            0                  50   \n",
       "3                 10              0            0                  50   \n",
       "4                  2              0            0                  73   \n",
       "\n",
       "   is_promoted  \n",
       "0            0  \n",
       "1            0  \n",
       "2            0  \n",
       "3            0  \n",
       "4            0  "
      ]
     },
     "execution_count": 2,
     "metadata": {},
     "output_type": "execute_result"
    }
   ],
   "source": [
    "# Load dataset into a DataFrame\n",
    "df_classification = pd.read_csv(\"./data/hr_data.csv\")\n",
    "\n",
    "# Create a copy of the DataFrame\n",
    "df1 = df_classification.copy()\n",
    "\n",
    "# Show overview of the dataset\n",
    "df1.head()"
   ]
  },
  {
   "cell_type": "code",
   "execution_count": 3,
   "metadata": {},
   "outputs": [
    {
     "name": "stdout",
     "output_type": "stream",
     "text": [
      "<class 'pandas.core.frame.DataFrame'>\n",
      "RangeIndex: 54808 entries, 0 to 54807\n",
      "Data columns (total 14 columns):\n",
      " #   Column                Non-Null Count  Dtype  \n",
      "---  ------                --------------  -----  \n",
      " 0   employee_id           54808 non-null  int64  \n",
      " 1   department            54808 non-null  object \n",
      " 2   region                54808 non-null  object \n",
      " 3   education             52399 non-null  object \n",
      " 4   gender                54808 non-null  object \n",
      " 5   recruitment_channel   54808 non-null  object \n",
      " 6   no_of_trainings       54808 non-null  int64  \n",
      " 7   age                   54808 non-null  int64  \n",
      " 8   previous_year_rating  50684 non-null  float64\n",
      " 9   length_of_service     54808 non-null  int64  \n",
      " 10  KPIs_met >80%         54808 non-null  int64  \n",
      " 11  awards_won?           54808 non-null  int64  \n",
      " 12  avg_training_score    54808 non-null  int64  \n",
      " 13  is_promoted           54808 non-null  int64  \n",
      "dtypes: float64(1), int64(8), object(5)\n",
      "memory usage: 5.9+ MB\n"
     ]
    }
   ],
   "source": [
    "df1.info()"
   ]
  },
  {
   "cell_type": "code",
   "execution_count": 4,
   "metadata": {},
   "outputs": [
    {
     "data": {
      "text/plain": [
       "employee_id                0\n",
       "department                 0\n",
       "region                     0\n",
       "education               2409\n",
       "gender                     0\n",
       "recruitment_channel        0\n",
       "no_of_trainings            0\n",
       "age                        0\n",
       "previous_year_rating    4124\n",
       "length_of_service          0\n",
       "KPIs_met >80%              0\n",
       "awards_won?                0\n",
       "avg_training_score         0\n",
       "is_promoted                0\n",
       "dtype: int64"
      ]
     },
     "execution_count": 4,
     "metadata": {},
     "output_type": "execute_result"
    }
   ],
   "source": [
    "df1.isnull().sum()"
   ]
  },
  {
   "cell_type": "markdown",
   "metadata": {},
   "source": [
    "## 1.2 Cleanse and Transform the data <a id = \"1.2\"></a>\n",
    "\n",
    "[Back to top](#top)"
   ]
  },
  {
   "cell_type": "code",
   "execution_count": 5,
   "metadata": {},
   "outputs": [
    {
     "data": {
      "text/html": [
       "<div>\n",
       "<style scoped>\n",
       "    .dataframe tbody tr th:only-of-type {\n",
       "        vertical-align: middle;\n",
       "    }\n",
       "\n",
       "    .dataframe tbody tr th {\n",
       "        vertical-align: top;\n",
       "    }\n",
       "\n",
       "    .dataframe thead th {\n",
       "        text-align: right;\n",
       "    }\n",
       "</style>\n",
       "<table border=\"1\" class=\"dataframe\">\n",
       "  <thead>\n",
       "    <tr style=\"text-align: right;\">\n",
       "      <th></th>\n",
       "      <th>department</th>\n",
       "      <th>region</th>\n",
       "      <th>education</th>\n",
       "      <th>gender</th>\n",
       "      <th>recruitment_channel</th>\n",
       "      <th>no_of_trainings</th>\n",
       "      <th>age</th>\n",
       "      <th>previous_year_rating</th>\n",
       "      <th>length_of_service</th>\n",
       "      <th>KPIs_met &gt;80%</th>\n",
       "      <th>awards_won?</th>\n",
       "      <th>avg_training_score</th>\n",
       "      <th>is_promoted</th>\n",
       "    </tr>\n",
       "  </thead>\n",
       "  <tbody>\n",
       "    <tr>\n",
       "      <th>0</th>\n",
       "      <td>Sales &amp; Marketing</td>\n",
       "      <td>region_7</td>\n",
       "      <td>Master's &amp; above</td>\n",
       "      <td>f</td>\n",
       "      <td>sourcing</td>\n",
       "      <td>1</td>\n",
       "      <td>35</td>\n",
       "      <td>5.0</td>\n",
       "      <td>8</td>\n",
       "      <td>1</td>\n",
       "      <td>0</td>\n",
       "      <td>49</td>\n",
       "      <td>0</td>\n",
       "    </tr>\n",
       "    <tr>\n",
       "      <th>1</th>\n",
       "      <td>Operations</td>\n",
       "      <td>region_22</td>\n",
       "      <td>Bachelor's</td>\n",
       "      <td>m</td>\n",
       "      <td>other</td>\n",
       "      <td>1</td>\n",
       "      <td>30</td>\n",
       "      <td>5.0</td>\n",
       "      <td>4</td>\n",
       "      <td>0</td>\n",
       "      <td>0</td>\n",
       "      <td>60</td>\n",
       "      <td>0</td>\n",
       "    </tr>\n",
       "    <tr>\n",
       "      <th>2</th>\n",
       "      <td>Sales &amp; Marketing</td>\n",
       "      <td>region_19</td>\n",
       "      <td>Bachelor's</td>\n",
       "      <td>m</td>\n",
       "      <td>sourcing</td>\n",
       "      <td>1</td>\n",
       "      <td>34</td>\n",
       "      <td>3.0</td>\n",
       "      <td>7</td>\n",
       "      <td>0</td>\n",
       "      <td>0</td>\n",
       "      <td>50</td>\n",
       "      <td>0</td>\n",
       "    </tr>\n",
       "    <tr>\n",
       "      <th>3</th>\n",
       "      <td>Sales &amp; Marketing</td>\n",
       "      <td>region_23</td>\n",
       "      <td>Bachelor's</td>\n",
       "      <td>m</td>\n",
       "      <td>other</td>\n",
       "      <td>2</td>\n",
       "      <td>39</td>\n",
       "      <td>1.0</td>\n",
       "      <td>10</td>\n",
       "      <td>0</td>\n",
       "      <td>0</td>\n",
       "      <td>50</td>\n",
       "      <td>0</td>\n",
       "    </tr>\n",
       "    <tr>\n",
       "      <th>4</th>\n",
       "      <td>Technology</td>\n",
       "      <td>region_26</td>\n",
       "      <td>Bachelor's</td>\n",
       "      <td>m</td>\n",
       "      <td>other</td>\n",
       "      <td>1</td>\n",
       "      <td>45</td>\n",
       "      <td>3.0</td>\n",
       "      <td>2</td>\n",
       "      <td>0</td>\n",
       "      <td>0</td>\n",
       "      <td>73</td>\n",
       "      <td>0</td>\n",
       "    </tr>\n",
       "  </tbody>\n",
       "</table>\n",
       "</div>"
      ],
      "text/plain": [
       "          department     region         education gender recruitment_channel  \\\n",
       "0  Sales & Marketing   region_7  Master's & above      f            sourcing   \n",
       "1         Operations  region_22        Bachelor's      m               other   \n",
       "2  Sales & Marketing  region_19        Bachelor's      m            sourcing   \n",
       "3  Sales & Marketing  region_23        Bachelor's      m               other   \n",
       "4         Technology  region_26        Bachelor's      m               other   \n",
       "\n",
       "   no_of_trainings  age  previous_year_rating  length_of_service  \\\n",
       "0                1   35                   5.0                  8   \n",
       "1                1   30                   5.0                  4   \n",
       "2                1   34                   3.0                  7   \n",
       "3                2   39                   1.0                 10   \n",
       "4                1   45                   3.0                  2   \n",
       "\n",
       "   KPIs_met >80%  awards_won?  avg_training_score  is_promoted  \n",
       "0              1            0                  49            0  \n",
       "1              0            0                  60            0  \n",
       "2              0            0                  50            0  \n",
       "3              0            0                  50            0  \n",
       "4              0            0                  73            0  "
      ]
     },
     "execution_count": 5,
     "metadata": {},
     "output_type": "execute_result"
    }
   ],
   "source": [
    "# Drop employee_id column as it is unnecessary for analysis\n",
    "df1 = df1.drop('employee_id', axis = 1)\n",
    "df1.head()"
   ]
  },
  {
   "cell_type": "markdown",
   "metadata": {},
   "source": [
    "### 1.2.1 Remove nulls <a id = \"1.2.1\"></a>\n",
    "\n",
    "[Back to top](#top)"
   ]
  },
  {
   "cell_type": "code",
   "execution_count": 6,
   "metadata": {},
   "outputs": [
    {
     "data": {
      "text/html": [
       "<div>\n",
       "<style scoped>\n",
       "    .dataframe tbody tr th:only-of-type {\n",
       "        vertical-align: middle;\n",
       "    }\n",
       "\n",
       "    .dataframe tbody tr th {\n",
       "        vertical-align: top;\n",
       "    }\n",
       "\n",
       "    .dataframe thead th {\n",
       "        text-align: right;\n",
       "    }\n",
       "</style>\n",
       "<table border=\"1\" class=\"dataframe\">\n",
       "  <thead>\n",
       "    <tr style=\"text-align: right;\">\n",
       "      <th></th>\n",
       "      <th>no_of_trainings</th>\n",
       "      <th>age</th>\n",
       "      <th>previous_year_rating</th>\n",
       "      <th>length_of_service</th>\n",
       "      <th>KPIs_met &gt;80%</th>\n",
       "      <th>awards_won?</th>\n",
       "      <th>avg_training_score</th>\n",
       "      <th>is_promoted</th>\n",
       "    </tr>\n",
       "  </thead>\n",
       "  <tbody>\n",
       "    <tr>\n",
       "      <th>count</th>\n",
       "      <td>54808.000000</td>\n",
       "      <td>54808.000000</td>\n",
       "      <td>50684.000000</td>\n",
       "      <td>54808.000000</td>\n",
       "      <td>54808.000000</td>\n",
       "      <td>54808.000000</td>\n",
       "      <td>54808.000000</td>\n",
       "      <td>54808.000000</td>\n",
       "    </tr>\n",
       "    <tr>\n",
       "      <th>mean</th>\n",
       "      <td>1.253011</td>\n",
       "      <td>34.803915</td>\n",
       "      <td>3.329256</td>\n",
       "      <td>5.865512</td>\n",
       "      <td>0.351974</td>\n",
       "      <td>0.023172</td>\n",
       "      <td>63.386750</td>\n",
       "      <td>0.085170</td>\n",
       "    </tr>\n",
       "    <tr>\n",
       "      <th>std</th>\n",
       "      <td>0.609264</td>\n",
       "      <td>7.660169</td>\n",
       "      <td>1.259993</td>\n",
       "      <td>4.265094</td>\n",
       "      <td>0.477590</td>\n",
       "      <td>0.150450</td>\n",
       "      <td>13.371559</td>\n",
       "      <td>0.279137</td>\n",
       "    </tr>\n",
       "    <tr>\n",
       "      <th>min</th>\n",
       "      <td>1.000000</td>\n",
       "      <td>20.000000</td>\n",
       "      <td>1.000000</td>\n",
       "      <td>1.000000</td>\n",
       "      <td>0.000000</td>\n",
       "      <td>0.000000</td>\n",
       "      <td>39.000000</td>\n",
       "      <td>0.000000</td>\n",
       "    </tr>\n",
       "    <tr>\n",
       "      <th>25%</th>\n",
       "      <td>1.000000</td>\n",
       "      <td>29.000000</td>\n",
       "      <td>3.000000</td>\n",
       "      <td>3.000000</td>\n",
       "      <td>0.000000</td>\n",
       "      <td>0.000000</td>\n",
       "      <td>51.000000</td>\n",
       "      <td>0.000000</td>\n",
       "    </tr>\n",
       "    <tr>\n",
       "      <th>50%</th>\n",
       "      <td>1.000000</td>\n",
       "      <td>33.000000</td>\n",
       "      <td>3.000000</td>\n",
       "      <td>5.000000</td>\n",
       "      <td>0.000000</td>\n",
       "      <td>0.000000</td>\n",
       "      <td>60.000000</td>\n",
       "      <td>0.000000</td>\n",
       "    </tr>\n",
       "    <tr>\n",
       "      <th>75%</th>\n",
       "      <td>1.000000</td>\n",
       "      <td>39.000000</td>\n",
       "      <td>4.000000</td>\n",
       "      <td>7.000000</td>\n",
       "      <td>1.000000</td>\n",
       "      <td>0.000000</td>\n",
       "      <td>76.000000</td>\n",
       "      <td>0.000000</td>\n",
       "    </tr>\n",
       "    <tr>\n",
       "      <th>max</th>\n",
       "      <td>10.000000</td>\n",
       "      <td>60.000000</td>\n",
       "      <td>5.000000</td>\n",
       "      <td>37.000000</td>\n",
       "      <td>1.000000</td>\n",
       "      <td>1.000000</td>\n",
       "      <td>99.000000</td>\n",
       "      <td>1.000000</td>\n",
       "    </tr>\n",
       "  </tbody>\n",
       "</table>\n",
       "</div>"
      ],
      "text/plain": [
       "       no_of_trainings           age  previous_year_rating  length_of_service  \\\n",
       "count     54808.000000  54808.000000          50684.000000       54808.000000   \n",
       "mean          1.253011     34.803915              3.329256           5.865512   \n",
       "std           0.609264      7.660169              1.259993           4.265094   \n",
       "min           1.000000     20.000000              1.000000           1.000000   \n",
       "25%           1.000000     29.000000              3.000000           3.000000   \n",
       "50%           1.000000     33.000000              3.000000           5.000000   \n",
       "75%           1.000000     39.000000              4.000000           7.000000   \n",
       "max          10.000000     60.000000              5.000000          37.000000   \n",
       "\n",
       "       KPIs_met >80%   awards_won?  avg_training_score   is_promoted  \n",
       "count   54808.000000  54808.000000        54808.000000  54808.000000  \n",
       "mean        0.351974      0.023172           63.386750      0.085170  \n",
       "std         0.477590      0.150450           13.371559      0.279137  \n",
       "min         0.000000      0.000000           39.000000      0.000000  \n",
       "25%         0.000000      0.000000           51.000000      0.000000  \n",
       "50%         0.000000      0.000000           60.000000      0.000000  \n",
       "75%         1.000000      0.000000           76.000000      0.000000  \n",
       "max         1.000000      1.000000           99.000000      1.000000  "
      ]
     },
     "execution_count": 6,
     "metadata": {},
     "output_type": "execute_result"
    }
   ],
   "source": [
    "df1.select_dtypes(['int64', 'float64']).describe()"
   ]
  },
  {
   "cell_type": "code",
   "execution_count": 7,
   "metadata": {},
   "outputs": [],
   "source": [
    "# Replace nulls in previous_year_rating with median\n",
    "df1['previous_year_rating'] = df1['previous_year_rating'].fillna(df1['previous_year_rating'].median()).astype(int)"
   ]
  },
  {
   "cell_type": "code",
   "execution_count": 8,
   "metadata": {
    "scrolled": true
   },
   "outputs": [
    {
     "data": {
      "text/html": [
       "<div>\n",
       "<style scoped>\n",
       "    .dataframe tbody tr th:only-of-type {\n",
       "        vertical-align: middle;\n",
       "    }\n",
       "\n",
       "    .dataframe tbody tr th {\n",
       "        vertical-align: top;\n",
       "    }\n",
       "\n",
       "    .dataframe thead th {\n",
       "        text-align: right;\n",
       "    }\n",
       "</style>\n",
       "<table border=\"1\" class=\"dataframe\">\n",
       "  <thead>\n",
       "    <tr style=\"text-align: right;\">\n",
       "      <th></th>\n",
       "      <th>department</th>\n",
       "      <th>region</th>\n",
       "      <th>education</th>\n",
       "      <th>gender</th>\n",
       "      <th>recruitment_channel</th>\n",
       "    </tr>\n",
       "  </thead>\n",
       "  <tbody>\n",
       "    <tr>\n",
       "      <th>count</th>\n",
       "      <td>54808</td>\n",
       "      <td>54808</td>\n",
       "      <td>52399</td>\n",
       "      <td>54808</td>\n",
       "      <td>54808</td>\n",
       "    </tr>\n",
       "    <tr>\n",
       "      <th>unique</th>\n",
       "      <td>9</td>\n",
       "      <td>34</td>\n",
       "      <td>3</td>\n",
       "      <td>2</td>\n",
       "      <td>3</td>\n",
       "    </tr>\n",
       "    <tr>\n",
       "      <th>top</th>\n",
       "      <td>Sales &amp; Marketing</td>\n",
       "      <td>region_2</td>\n",
       "      <td>Bachelor's</td>\n",
       "      <td>m</td>\n",
       "      <td>other</td>\n",
       "    </tr>\n",
       "    <tr>\n",
       "      <th>freq</th>\n",
       "      <td>16840</td>\n",
       "      <td>12343</td>\n",
       "      <td>36669</td>\n",
       "      <td>38496</td>\n",
       "      <td>30446</td>\n",
       "    </tr>\n",
       "  </tbody>\n",
       "</table>\n",
       "</div>"
      ],
      "text/plain": [
       "               department    region   education gender recruitment_channel\n",
       "count               54808     54808       52399  54808               54808\n",
       "unique                  9        34           3      2                   3\n",
       "top     Sales & Marketing  region_2  Bachelor's      m               other\n",
       "freq                16840     12343       36669  38496               30446"
      ]
     },
     "execution_count": 8,
     "metadata": {},
     "output_type": "execute_result"
    }
   ],
   "source": [
    "df1.select_dtypes(['object']).describe()"
   ]
  },
  {
   "cell_type": "code",
   "execution_count": 9,
   "metadata": {},
   "outputs": [],
   "source": [
    "# Replace nulls in education with the most frequent\n",
    "df1['education'] = df1['education'].fillna(\"Bachelor's\")"
   ]
  },
  {
   "cell_type": "code",
   "execution_count": 10,
   "metadata": {},
   "outputs": [
    {
     "data": {
      "text/plain": [
       "department              0\n",
       "region                  0\n",
       "education               0\n",
       "gender                  0\n",
       "recruitment_channel     0\n",
       "no_of_trainings         0\n",
       "age                     0\n",
       "previous_year_rating    0\n",
       "length_of_service       0\n",
       "KPIs_met >80%           0\n",
       "awards_won?             0\n",
       "avg_training_score      0\n",
       "is_promoted             0\n",
       "dtype: int64"
      ]
     },
     "execution_count": 10,
     "metadata": {},
     "output_type": "execute_result"
    }
   ],
   "source": [
    "df1.isnull().sum()"
   ]
  },
  {
   "cell_type": "markdown",
   "metadata": {},
   "source": [
    "### 1.2.2 Map categorical values into integers <a id = \"1.2.2\"></a>\n",
    "\n",
    "[Back to top](#top)"
   ]
  },
  {
   "cell_type": "markdown",
   "metadata": {},
   "source": [
    "### department"
   ]
  },
  {
   "cell_type": "code",
   "execution_count": 11,
   "metadata": {
    "scrolled": true
   },
   "outputs": [
    {
     "data": {
      "text/plain": [
       "Sales & Marketing    16840\n",
       "Operations           11348\n",
       "Technology            7138\n",
       "Procurement           7138\n",
       "Analytics             5352\n",
       "Finance               2536\n",
       "HR                    2418\n",
       "Legal                 1039\n",
       "R&D                    999\n",
       "Name: department, dtype: int64"
      ]
     },
     "execution_count": 11,
     "metadata": {},
     "output_type": "execute_result"
    }
   ],
   "source": [
    "# Check for rare values\n",
    "df1['department'].value_counts()"
   ]
  },
  {
   "cell_type": "code",
   "execution_count": 12,
   "metadata": {
    "scrolled": true
   },
   "outputs": [
    {
     "data": {
      "text/plain": [
       "0    16840\n",
       "1    11348\n",
       "2     7138\n",
       "3     7138\n",
       "4     5352\n",
       "5     2536\n",
       "6     2418\n",
       "7     1039\n",
       "8      999\n",
       "Name: department, dtype: int64"
      ]
     },
     "execution_count": 12,
     "metadata": {},
     "output_type": "execute_result"
    }
   ],
   "source": [
    "# Since there are no rare values, we can proceed with mapping the values\n",
    "df1['department'] = df1['department'].map({'Sales & Marketing': 0, 'Operations': 1, 'Technology': 2, \n",
    "                                           'Procurement': 3, 'Analytics': 4, 'Finance': 5, 'HR': 6, \n",
    "                                           'Legal': 7, 'R&D': 8}\n",
    "                                         ).astype(int)\n",
    "df1['department'].value_counts()"
   ]
  },
  {
   "cell_type": "markdown",
   "metadata": {},
   "source": [
    "### region"
   ]
  },
  {
   "cell_type": "code",
   "execution_count": 13,
   "metadata": {
    "scrolled": true
   },
   "outputs": [
    {
     "data": {
      "text/plain": [
       "region_2     12343\n",
       "region_22     6428\n",
       "region_7      4843\n",
       "region_15     2808\n",
       "region_13     2648\n",
       "region_26     2260\n",
       "region_31     1935\n",
       "region_4      1703\n",
       "region_27     1659\n",
       "region_16     1465\n",
       "region_28     1318\n",
       "region_11     1315\n",
       "region_23     1175\n",
       "region_29      994\n",
       "region_32      945\n",
       "region_19      874\n",
       "region_20      850\n",
       "region_14      827\n",
       "region_25      819\n",
       "region_17      796\n",
       "region_5       766\n",
       "region_6       690\n",
       "region_30      657\n",
       "region_8       655\n",
       "region_10      648\n",
       "region_1       610\n",
       "region_24      508\n",
       "region_12      500\n",
       "region_9       420\n",
       "region_21      411\n",
       "region_3       346\n",
       "region_34      292\n",
       "region_33      269\n",
       "region_18       31\n",
       "Name: region, dtype: int64"
      ]
     },
     "execution_count": 13,
     "metadata": {},
     "output_type": "execute_result"
    }
   ],
   "source": [
    "# See the number of unique values\n",
    "df1['region'].value_counts()"
   ]
  },
  {
   "cell_type": "code",
   "execution_count": 14,
   "metadata": {
    "scrolled": true
   },
   "outputs": [
    {
     "data": {
      "text/plain": [
       "region_2     12343\n",
       "region_22     6428\n",
       "region_7      4843\n",
       "region_15     2808\n",
       "region_13     2648\n",
       "rare          2269\n",
       "region_26     2260\n",
       "region_31     1935\n",
       "region_4      1703\n",
       "region_27     1659\n",
       "region_16     1465\n",
       "region_28     1318\n",
       "region_11     1315\n",
       "region_23     1175\n",
       "region_29      994\n",
       "region_32      945\n",
       "region_19      874\n",
       "region_20      850\n",
       "region_14      827\n",
       "region_25      819\n",
       "region_17      796\n",
       "region_5       766\n",
       "region_6       690\n",
       "region_30      657\n",
       "region_8       655\n",
       "region_10      648\n",
       "region_1       610\n",
       "region_24      508\n",
       "Name: region, dtype: int64"
      ]
     },
     "execution_count": 14,
     "metadata": {},
     "output_type": "execute_result"
    }
   ],
   "source": [
    "# Replace values with <500 count\n",
    "# Replace region_3, region_9, region_12, region_18, region_21, region_33, region_34 with rare\n",
    "df1['region'] = df1['region'].replace(['region_12', 'region_9', 'region_21','region_3', \n",
    "                                       'region_34', 'region_33', 'region_18'], 'rare')\n",
    "df1['region'].value_counts()"
   ]
  },
  {
   "cell_type": "code",
   "execution_count": 15,
   "metadata": {
    "scrolled": true
   },
   "outputs": [
    {
     "data": {
      "text/plain": [
       "1     12343\n",
       "16     6428\n",
       "5      4843\n",
       "11     2808\n",
       "9      2648\n",
       "27     2269\n",
       "20     2260\n",
       "25     1935\n",
       "2      1703\n",
       "21     1659\n",
       "12     1465\n",
       "22     1318\n",
       "8      1315\n",
       "17     1175\n",
       "23      994\n",
       "26      945\n",
       "14      874\n",
       "15      850\n",
       "10      827\n",
       "19      819\n",
       "13      796\n",
       "3       766\n",
       "4       690\n",
       "24      657\n",
       "6       655\n",
       "7       648\n",
       "0       610\n",
       "18      508\n",
       "Name: region, dtype: int64"
      ]
     },
     "execution_count": 15,
     "metadata": {},
     "output_type": "execute_result"
    }
   ],
   "source": [
    "# Map values to integers\n",
    "df1['region'] = df1['region'].map({'region_1': 0, 'region_2': 1, 'region_4': 2, 'region_5': 3, 'region_6': 4, \n",
    "                                   'region_7': 5, 'region_8': 6, 'region_10': 7, 'region_11': 8, 'region_13': 9, \n",
    "                                   'region_14': 10, 'region_15': 11, 'region_16': 12, 'region_17': 13, 'region_19': 14, \n",
    "                                   'region_20': 15, 'region_22': 16, 'region_23': 17, 'region_24': 18, 'region_25': 19,\n",
    "                                   'region_26': 20, 'region_27': 21, 'region_28': 22, 'region_29': 23, 'region_30': 24, \n",
    "                                   'region_31': 25, 'region_32': 26, 'rare': 27}\n",
    "                                 ).astype(int)\n",
    "df1['region'].value_counts()"
   ]
  },
  {
   "cell_type": "markdown",
   "metadata": {},
   "source": [
    "### education"
   ]
  },
  {
   "cell_type": "code",
   "execution_count": 16,
   "metadata": {
    "scrolled": true
   },
   "outputs": [
    {
     "data": {
      "text/plain": [
       "Bachelor's          39078\n",
       "Master's & above    14925\n",
       "Below Secondary       805\n",
       "Name: education, dtype: int64"
      ]
     },
     "execution_count": 16,
     "metadata": {},
     "output_type": "execute_result"
    }
   ],
   "source": [
    "# Check for rare values\n",
    "df1['education'].value_counts()"
   ]
  },
  {
   "cell_type": "code",
   "execution_count": 17,
   "metadata": {},
   "outputs": [
    {
     "data": {
      "text/html": [
       "<div>\n",
       "<style scoped>\n",
       "    .dataframe tbody tr th:only-of-type {\n",
       "        vertical-align: middle;\n",
       "    }\n",
       "\n",
       "    .dataframe tbody tr th {\n",
       "        vertical-align: top;\n",
       "    }\n",
       "\n",
       "    .dataframe thead th {\n",
       "        text-align: right;\n",
       "    }\n",
       "</style>\n",
       "<table border=\"1\" class=\"dataframe\">\n",
       "  <thead>\n",
       "    <tr style=\"text-align: right;\">\n",
       "      <th></th>\n",
       "      <th>department</th>\n",
       "      <th>region</th>\n",
       "      <th>gender</th>\n",
       "      <th>recruitment_channel</th>\n",
       "      <th>no_of_trainings</th>\n",
       "      <th>age</th>\n",
       "      <th>previous_year_rating</th>\n",
       "      <th>length_of_service</th>\n",
       "      <th>KPIs_met &gt;80%</th>\n",
       "      <th>awards_won?</th>\n",
       "      <th>avg_training_score</th>\n",
       "      <th>is_promoted</th>\n",
       "      <th>Bachelor's</th>\n",
       "      <th>Below Secondary</th>\n",
       "      <th>Master's &amp; above</th>\n",
       "    </tr>\n",
       "  </thead>\n",
       "  <tbody>\n",
       "    <tr>\n",
       "      <th>0</th>\n",
       "      <td>0</td>\n",
       "      <td>5</td>\n",
       "      <td>f</td>\n",
       "      <td>sourcing</td>\n",
       "      <td>1</td>\n",
       "      <td>35</td>\n",
       "      <td>5</td>\n",
       "      <td>8</td>\n",
       "      <td>1</td>\n",
       "      <td>0</td>\n",
       "      <td>49</td>\n",
       "      <td>0</td>\n",
       "      <td>0.0</td>\n",
       "      <td>0.0</td>\n",
       "      <td>1.0</td>\n",
       "    </tr>\n",
       "    <tr>\n",
       "      <th>1</th>\n",
       "      <td>1</td>\n",
       "      <td>16</td>\n",
       "      <td>m</td>\n",
       "      <td>other</td>\n",
       "      <td>1</td>\n",
       "      <td>30</td>\n",
       "      <td>5</td>\n",
       "      <td>4</td>\n",
       "      <td>0</td>\n",
       "      <td>0</td>\n",
       "      <td>60</td>\n",
       "      <td>0</td>\n",
       "      <td>1.0</td>\n",
       "      <td>0.0</td>\n",
       "      <td>0.0</td>\n",
       "    </tr>\n",
       "    <tr>\n",
       "      <th>2</th>\n",
       "      <td>0</td>\n",
       "      <td>14</td>\n",
       "      <td>m</td>\n",
       "      <td>sourcing</td>\n",
       "      <td>1</td>\n",
       "      <td>34</td>\n",
       "      <td>3</td>\n",
       "      <td>7</td>\n",
       "      <td>0</td>\n",
       "      <td>0</td>\n",
       "      <td>50</td>\n",
       "      <td>0</td>\n",
       "      <td>1.0</td>\n",
       "      <td>0.0</td>\n",
       "      <td>0.0</td>\n",
       "    </tr>\n",
       "    <tr>\n",
       "      <th>3</th>\n",
       "      <td>0</td>\n",
       "      <td>17</td>\n",
       "      <td>m</td>\n",
       "      <td>other</td>\n",
       "      <td>2</td>\n",
       "      <td>39</td>\n",
       "      <td>1</td>\n",
       "      <td>10</td>\n",
       "      <td>0</td>\n",
       "      <td>0</td>\n",
       "      <td>50</td>\n",
       "      <td>0</td>\n",
       "      <td>1.0</td>\n",
       "      <td>0.0</td>\n",
       "      <td>0.0</td>\n",
       "    </tr>\n",
       "    <tr>\n",
       "      <th>4</th>\n",
       "      <td>2</td>\n",
       "      <td>20</td>\n",
       "      <td>m</td>\n",
       "      <td>other</td>\n",
       "      <td>1</td>\n",
       "      <td>45</td>\n",
       "      <td>3</td>\n",
       "      <td>2</td>\n",
       "      <td>0</td>\n",
       "      <td>0</td>\n",
       "      <td>73</td>\n",
       "      <td>0</td>\n",
       "      <td>1.0</td>\n",
       "      <td>0.0</td>\n",
       "      <td>0.0</td>\n",
       "    </tr>\n",
       "  </tbody>\n",
       "</table>\n",
       "</div>"
      ],
      "text/plain": [
       "   department  region gender recruitment_channel  no_of_trainings  age  \\\n",
       "0           0       5      f            sourcing                1   35   \n",
       "1           1      16      m               other                1   30   \n",
       "2           0      14      m            sourcing                1   34   \n",
       "3           0      17      m               other                2   39   \n",
       "4           2      20      m               other                1   45   \n",
       "\n",
       "   previous_year_rating  length_of_service  KPIs_met >80%  awards_won?  \\\n",
       "0                     5                  8              1            0   \n",
       "1                     5                  4              0            0   \n",
       "2                     3                  7              0            0   \n",
       "3                     1                 10              0            0   \n",
       "4                     3                  2              0            0   \n",
       "\n",
       "   avg_training_score  is_promoted  Bachelor's  Below Secondary  \\\n",
       "0                  49            0         0.0              0.0   \n",
       "1                  60            0         1.0              0.0   \n",
       "2                  50            0         1.0              0.0   \n",
       "3                  50            0         1.0              0.0   \n",
       "4                  73            0         1.0              0.0   \n",
       "\n",
       "   Master's & above  \n",
       "0               1.0  \n",
       "1               0.0  \n",
       "2               0.0  \n",
       "3               0.0  \n",
       "4               0.0  "
      ]
     },
     "execution_count": 17,
     "metadata": {},
     "output_type": "execute_result"
    }
   ],
   "source": [
    "# Create encoder\n",
    "education_enc = ohe()\n",
    "\n",
    "# Create variable to store fitted and transformed encoder\n",
    "temp = education_enc.fit_transform(df1[['education']]).toarray()\n",
    "\n",
    "# Get labels\n",
    "labels = education_enc.categories_[0]\n",
    "\n",
    "# Create 'features' dataframe\n",
    "features = pd.DataFrame(temp, columns = labels)\n",
    "\n",
    "# Concatenate 'features' dataframe with df1\n",
    "df1_enc = pd.concat([df1, features], axis = 1)\n",
    "\n",
    "# Drop 'education' column\n",
    "df1_enc = df1_enc.drop('education', axis = 1)\n",
    "\n",
    "df1_enc.head()"
   ]
  },
  {
   "cell_type": "markdown",
   "metadata": {},
   "source": [
    "### gender"
   ]
  },
  {
   "cell_type": "code",
   "execution_count": 18,
   "metadata": {},
   "outputs": [
    {
     "data": {
      "text/html": [
       "<div>\n",
       "<style scoped>\n",
       "    .dataframe tbody tr th:only-of-type {\n",
       "        vertical-align: middle;\n",
       "    }\n",
       "\n",
       "    .dataframe tbody tr th {\n",
       "        vertical-align: top;\n",
       "    }\n",
       "\n",
       "    .dataframe thead th {\n",
       "        text-align: right;\n",
       "    }\n",
       "</style>\n",
       "<table border=\"1\" class=\"dataframe\">\n",
       "  <thead>\n",
       "    <tr style=\"text-align: right;\">\n",
       "      <th></th>\n",
       "      <th>department</th>\n",
       "      <th>region</th>\n",
       "      <th>recruitment_channel</th>\n",
       "      <th>no_of_trainings</th>\n",
       "      <th>age</th>\n",
       "      <th>previous_year_rating</th>\n",
       "      <th>length_of_service</th>\n",
       "      <th>KPIs_met &gt;80%</th>\n",
       "      <th>awards_won?</th>\n",
       "      <th>avg_training_score</th>\n",
       "      <th>is_promoted</th>\n",
       "      <th>Bachelor's</th>\n",
       "      <th>Below Secondary</th>\n",
       "      <th>Master's &amp; above</th>\n",
       "      <th>f</th>\n",
       "      <th>m</th>\n",
       "    </tr>\n",
       "  </thead>\n",
       "  <tbody>\n",
       "    <tr>\n",
       "      <th>0</th>\n",
       "      <td>0</td>\n",
       "      <td>5</td>\n",
       "      <td>sourcing</td>\n",
       "      <td>1</td>\n",
       "      <td>35</td>\n",
       "      <td>5</td>\n",
       "      <td>8</td>\n",
       "      <td>1</td>\n",
       "      <td>0</td>\n",
       "      <td>49</td>\n",
       "      <td>0</td>\n",
       "      <td>0.0</td>\n",
       "      <td>0.0</td>\n",
       "      <td>1.0</td>\n",
       "      <td>1.0</td>\n",
       "      <td>0.0</td>\n",
       "    </tr>\n",
       "    <tr>\n",
       "      <th>1</th>\n",
       "      <td>1</td>\n",
       "      <td>16</td>\n",
       "      <td>other</td>\n",
       "      <td>1</td>\n",
       "      <td>30</td>\n",
       "      <td>5</td>\n",
       "      <td>4</td>\n",
       "      <td>0</td>\n",
       "      <td>0</td>\n",
       "      <td>60</td>\n",
       "      <td>0</td>\n",
       "      <td>1.0</td>\n",
       "      <td>0.0</td>\n",
       "      <td>0.0</td>\n",
       "      <td>0.0</td>\n",
       "      <td>1.0</td>\n",
       "    </tr>\n",
       "    <tr>\n",
       "      <th>2</th>\n",
       "      <td>0</td>\n",
       "      <td>14</td>\n",
       "      <td>sourcing</td>\n",
       "      <td>1</td>\n",
       "      <td>34</td>\n",
       "      <td>3</td>\n",
       "      <td>7</td>\n",
       "      <td>0</td>\n",
       "      <td>0</td>\n",
       "      <td>50</td>\n",
       "      <td>0</td>\n",
       "      <td>1.0</td>\n",
       "      <td>0.0</td>\n",
       "      <td>0.0</td>\n",
       "      <td>0.0</td>\n",
       "      <td>1.0</td>\n",
       "    </tr>\n",
       "    <tr>\n",
       "      <th>3</th>\n",
       "      <td>0</td>\n",
       "      <td>17</td>\n",
       "      <td>other</td>\n",
       "      <td>2</td>\n",
       "      <td>39</td>\n",
       "      <td>1</td>\n",
       "      <td>10</td>\n",
       "      <td>0</td>\n",
       "      <td>0</td>\n",
       "      <td>50</td>\n",
       "      <td>0</td>\n",
       "      <td>1.0</td>\n",
       "      <td>0.0</td>\n",
       "      <td>0.0</td>\n",
       "      <td>0.0</td>\n",
       "      <td>1.0</td>\n",
       "    </tr>\n",
       "    <tr>\n",
       "      <th>4</th>\n",
       "      <td>2</td>\n",
       "      <td>20</td>\n",
       "      <td>other</td>\n",
       "      <td>1</td>\n",
       "      <td>45</td>\n",
       "      <td>3</td>\n",
       "      <td>2</td>\n",
       "      <td>0</td>\n",
       "      <td>0</td>\n",
       "      <td>73</td>\n",
       "      <td>0</td>\n",
       "      <td>1.0</td>\n",
       "      <td>0.0</td>\n",
       "      <td>0.0</td>\n",
       "      <td>0.0</td>\n",
       "      <td>1.0</td>\n",
       "    </tr>\n",
       "  </tbody>\n",
       "</table>\n",
       "</div>"
      ],
      "text/plain": [
       "   department  region recruitment_channel  no_of_trainings  age  \\\n",
       "0           0       5            sourcing                1   35   \n",
       "1           1      16               other                1   30   \n",
       "2           0      14            sourcing                1   34   \n",
       "3           0      17               other                2   39   \n",
       "4           2      20               other                1   45   \n",
       "\n",
       "   previous_year_rating  length_of_service  KPIs_met >80%  awards_won?  \\\n",
       "0                     5                  8              1            0   \n",
       "1                     5                  4              0            0   \n",
       "2                     3                  7              0            0   \n",
       "3                     1                 10              0            0   \n",
       "4                     3                  2              0            0   \n",
       "\n",
       "   avg_training_score  is_promoted  Bachelor's  Below Secondary  \\\n",
       "0                  49            0         0.0              0.0   \n",
       "1                  60            0         1.0              0.0   \n",
       "2                  50            0         1.0              0.0   \n",
       "3                  50            0         1.0              0.0   \n",
       "4                  73            0         1.0              0.0   \n",
       "\n",
       "   Master's & above    f    m  \n",
       "0               1.0  1.0  0.0  \n",
       "1               0.0  0.0  1.0  \n",
       "2               0.0  0.0  1.0  \n",
       "3               0.0  0.0  1.0  \n",
       "4               0.0  0.0  1.0  "
      ]
     },
     "execution_count": 18,
     "metadata": {},
     "output_type": "execute_result"
    }
   ],
   "source": [
    "# Create encoder\n",
    "gender_enc = ohe()\n",
    "\n",
    "# Create variable to store fitted and transformed encoder\n",
    "temp = gender_enc.fit_transform(df1_enc[['gender']]).toarray()\n",
    "\n",
    "# Get labels\n",
    "labels = gender_enc.categories_[0]\n",
    "\n",
    "# Create 'features' dataframe\n",
    "features = pd.DataFrame(temp, columns = labels)\n",
    "\n",
    "# Concatenate 'features' dataframe with df1_enc\n",
    "df1_enc = pd.concat([df1_enc, features], axis = 1)\n",
    "\n",
    "# Drop 'gender' column\n",
    "df1_enc = df1_enc.drop('gender', axis = 1)\n",
    "\n",
    "df1_enc.head()"
   ]
  },
  {
   "cell_type": "markdown",
   "metadata": {},
   "source": [
    "### recruitment_channel"
   ]
  },
  {
   "cell_type": "code",
   "execution_count": 19,
   "metadata": {
    "scrolled": true
   },
   "outputs": [
    {
     "data": {
      "text/plain": [
       "other       30446\n",
       "sourcing    23220\n",
       "referred     1142\n",
       "Name: recruitment_channel, dtype: int64"
      ]
     },
     "execution_count": 19,
     "metadata": {},
     "output_type": "execute_result"
    }
   ],
   "source": [
    "# Check for rare values\n",
    "df1_enc['recruitment_channel'].value_counts()"
   ]
  },
  {
   "cell_type": "code",
   "execution_count": 20,
   "metadata": {},
   "outputs": [
    {
     "data": {
      "text/html": [
       "<div>\n",
       "<style scoped>\n",
       "    .dataframe tbody tr th:only-of-type {\n",
       "        vertical-align: middle;\n",
       "    }\n",
       "\n",
       "    .dataframe tbody tr th {\n",
       "        vertical-align: top;\n",
       "    }\n",
       "\n",
       "    .dataframe thead th {\n",
       "        text-align: right;\n",
       "    }\n",
       "</style>\n",
       "<table border=\"1\" class=\"dataframe\">\n",
       "  <thead>\n",
       "    <tr style=\"text-align: right;\">\n",
       "      <th></th>\n",
       "      <th>department</th>\n",
       "      <th>region</th>\n",
       "      <th>no_of_trainings</th>\n",
       "      <th>age</th>\n",
       "      <th>previous_year_rating</th>\n",
       "      <th>length_of_service</th>\n",
       "      <th>KPIs_met &gt;80%</th>\n",
       "      <th>awards_won?</th>\n",
       "      <th>avg_training_score</th>\n",
       "      <th>is_promoted</th>\n",
       "      <th>Bachelor's</th>\n",
       "      <th>Below Secondary</th>\n",
       "      <th>Master's &amp; above</th>\n",
       "      <th>f</th>\n",
       "      <th>m</th>\n",
       "      <th>other</th>\n",
       "      <th>referred</th>\n",
       "      <th>sourcing</th>\n",
       "    </tr>\n",
       "  </thead>\n",
       "  <tbody>\n",
       "    <tr>\n",
       "      <th>0</th>\n",
       "      <td>0</td>\n",
       "      <td>5</td>\n",
       "      <td>1</td>\n",
       "      <td>35</td>\n",
       "      <td>5</td>\n",
       "      <td>8</td>\n",
       "      <td>1</td>\n",
       "      <td>0</td>\n",
       "      <td>49</td>\n",
       "      <td>0</td>\n",
       "      <td>0.0</td>\n",
       "      <td>0.0</td>\n",
       "      <td>1.0</td>\n",
       "      <td>1.0</td>\n",
       "      <td>0.0</td>\n",
       "      <td>0.0</td>\n",
       "      <td>0.0</td>\n",
       "      <td>1.0</td>\n",
       "    </tr>\n",
       "    <tr>\n",
       "      <th>1</th>\n",
       "      <td>1</td>\n",
       "      <td>16</td>\n",
       "      <td>1</td>\n",
       "      <td>30</td>\n",
       "      <td>5</td>\n",
       "      <td>4</td>\n",
       "      <td>0</td>\n",
       "      <td>0</td>\n",
       "      <td>60</td>\n",
       "      <td>0</td>\n",
       "      <td>1.0</td>\n",
       "      <td>0.0</td>\n",
       "      <td>0.0</td>\n",
       "      <td>0.0</td>\n",
       "      <td>1.0</td>\n",
       "      <td>1.0</td>\n",
       "      <td>0.0</td>\n",
       "      <td>0.0</td>\n",
       "    </tr>\n",
       "    <tr>\n",
       "      <th>2</th>\n",
       "      <td>0</td>\n",
       "      <td>14</td>\n",
       "      <td>1</td>\n",
       "      <td>34</td>\n",
       "      <td>3</td>\n",
       "      <td>7</td>\n",
       "      <td>0</td>\n",
       "      <td>0</td>\n",
       "      <td>50</td>\n",
       "      <td>0</td>\n",
       "      <td>1.0</td>\n",
       "      <td>0.0</td>\n",
       "      <td>0.0</td>\n",
       "      <td>0.0</td>\n",
       "      <td>1.0</td>\n",
       "      <td>0.0</td>\n",
       "      <td>0.0</td>\n",
       "      <td>1.0</td>\n",
       "    </tr>\n",
       "    <tr>\n",
       "      <th>3</th>\n",
       "      <td>0</td>\n",
       "      <td>17</td>\n",
       "      <td>2</td>\n",
       "      <td>39</td>\n",
       "      <td>1</td>\n",
       "      <td>10</td>\n",
       "      <td>0</td>\n",
       "      <td>0</td>\n",
       "      <td>50</td>\n",
       "      <td>0</td>\n",
       "      <td>1.0</td>\n",
       "      <td>0.0</td>\n",
       "      <td>0.0</td>\n",
       "      <td>0.0</td>\n",
       "      <td>1.0</td>\n",
       "      <td>1.0</td>\n",
       "      <td>0.0</td>\n",
       "      <td>0.0</td>\n",
       "    </tr>\n",
       "    <tr>\n",
       "      <th>4</th>\n",
       "      <td>2</td>\n",
       "      <td>20</td>\n",
       "      <td>1</td>\n",
       "      <td>45</td>\n",
       "      <td>3</td>\n",
       "      <td>2</td>\n",
       "      <td>0</td>\n",
       "      <td>0</td>\n",
       "      <td>73</td>\n",
       "      <td>0</td>\n",
       "      <td>1.0</td>\n",
       "      <td>0.0</td>\n",
       "      <td>0.0</td>\n",
       "      <td>0.0</td>\n",
       "      <td>1.0</td>\n",
       "      <td>1.0</td>\n",
       "      <td>0.0</td>\n",
       "      <td>0.0</td>\n",
       "    </tr>\n",
       "  </tbody>\n",
       "</table>\n",
       "</div>"
      ],
      "text/plain": [
       "   department  region  no_of_trainings  age  previous_year_rating  \\\n",
       "0           0       5                1   35                     5   \n",
       "1           1      16                1   30                     5   \n",
       "2           0      14                1   34                     3   \n",
       "3           0      17                2   39                     1   \n",
       "4           2      20                1   45                     3   \n",
       "\n",
       "   length_of_service  KPIs_met >80%  awards_won?  avg_training_score  \\\n",
       "0                  8              1            0                  49   \n",
       "1                  4              0            0                  60   \n",
       "2                  7              0            0                  50   \n",
       "3                 10              0            0                  50   \n",
       "4                  2              0            0                  73   \n",
       "\n",
       "   is_promoted  Bachelor's  Below Secondary  Master's & above    f    m  \\\n",
       "0            0         0.0              0.0               1.0  1.0  0.0   \n",
       "1            0         1.0              0.0               0.0  0.0  1.0   \n",
       "2            0         1.0              0.0               0.0  0.0  1.0   \n",
       "3            0         1.0              0.0               0.0  0.0  1.0   \n",
       "4            0         1.0              0.0               0.0  0.0  1.0   \n",
       "\n",
       "   other  referred  sourcing  \n",
       "0    0.0       0.0       1.0  \n",
       "1    1.0       0.0       0.0  \n",
       "2    0.0       0.0       1.0  \n",
       "3    1.0       0.0       0.0  \n",
       "4    1.0       0.0       0.0  "
      ]
     },
     "execution_count": 20,
     "metadata": {},
     "output_type": "execute_result"
    }
   ],
   "source": [
    "# Create encoder\n",
    "recruitment_enc = ohe()\n",
    "\n",
    "# Create variable to store fitted and transformed encoder\n",
    "temp = recruitment_enc.fit_transform(df1_enc[['recruitment_channel']]).toarray()\n",
    "\n",
    "# Get labels\n",
    "labels = recruitment_enc.categories_[0]\n",
    "\n",
    "# Create 'features' dataframe\n",
    "features = pd.DataFrame(temp, columns = labels)\n",
    "\n",
    "# Concatenate 'features' dataframe with df1_enc\n",
    "df1_enc = pd.concat([df1_enc, features], axis = 1)\n",
    "\n",
    "# Drop 'recruitment_channel' column\n",
    "df1_enc = df1_enc.drop('recruitment_channel', axis = 1)\n",
    "\n",
    "df1_enc.head()"
   ]
  },
  {
   "cell_type": "markdown",
   "metadata": {},
   "source": [
    "### 1.2.3 Stratified Sampling <a id = \"1.2.3\"></a>\n",
    "\n",
    "[Back to top](#top)"
   ]
  },
  {
   "cell_type": "code",
   "execution_count": 21,
   "metadata": {
    "scrolled": true
   },
   "outputs": [
    {
     "data": {
      "text/plain": [
       "0    50140\n",
       "1     4668\n",
       "Name: is_promoted, dtype: int64"
      ]
     },
     "execution_count": 21,
     "metadata": {},
     "output_type": "execute_result"
    }
   ],
   "source": [
    "# Compare the numbers of 0's and 1's in is_promoted\n",
    "df1_enc['is_promoted'].value_counts()"
   ]
  },
  {
   "cell_type": "code",
   "execution_count": 22,
   "metadata": {},
   "outputs": [],
   "source": [
    "# Create a dataframe that filters out rows with 1's\n",
    "df1_sampled = df1_enc[df1_enc['is_promoted'] == 1]\n",
    "\n",
    "# Create a dataframe that filters out rows with 0's\n",
    "df0 = df1_enc[df1_enc['is_promoted'] == 0]"
   ]
  },
  {
   "cell_type": "code",
   "execution_count": 23,
   "metadata": {},
   "outputs": [
    {
     "name": "stdout",
     "output_type": "stream",
     "text": [
      "Number of rows (1): 4668\n",
      "Number of rows (0): 50140\n"
     ]
    }
   ],
   "source": [
    "print(f'Number of rows (1): {len(df1_sampled)}')\n",
    "print(f'Number of rows (0): {len(df0)}')"
   ]
  },
  {
   "cell_type": "code",
   "execution_count": 24,
   "metadata": {},
   "outputs": [
    {
     "name": "stdout",
     "output_type": "stream",
     "text": [
      "Number of rows: 4668\n"
     ]
    }
   ],
   "source": [
    "# Create a dataframe that filters out rows with 0's\n",
    "df0_sampled = df0.sample(n = len(df1_sampled), random_state = 0).copy()\n",
    "print(f'Number of rows: {len(df0_sampled)}')"
   ]
  },
  {
   "cell_type": "code",
   "execution_count": 25,
   "metadata": {},
   "outputs": [
    {
     "data": {
      "text/plain": [
       "1    4668\n",
       "0    4668\n",
       "Name: is_promoted, dtype: int64"
      ]
     },
     "execution_count": 25,
     "metadata": {},
     "output_type": "execute_result"
    }
   ],
   "source": [
    "# Create a new dataframe that has equal numbers of 0's and 1's\n",
    "df1_new = pd.concat([df1_sampled, df0_sampled], axis = 0)\n",
    "df1_new['is_promoted'].value_counts()"
   ]
  },
  {
   "cell_type": "markdown",
   "metadata": {},
   "source": [
    "### 1.2.4 Train-test Split <a id = \"1.2.4\"></a>\n",
    "\n",
    "[Back to top](#top)"
   ]
  },
  {
   "cell_type": "code",
   "execution_count": 26,
   "metadata": {},
   "outputs": [
    {
     "data": {
      "text/plain": [
       "((6535, 17), (2801, 17))"
      ]
     },
     "execution_count": 26,
     "metadata": {},
     "output_type": "execute_result"
    }
   ],
   "source": [
    "# Split both Inputs (X) and Ouput (y) into training set (70%) and testing set (30%)\n",
    "X_train, X_test, y_train, y_test = train_test_split(df1_new.drop(['is_promoted'], axis = 1), \n",
    "                                                    df1_new['is_promoted'], \n",
    "                                                    test_size = 0.3, \n",
    "                                                    random_state = 10)\n",
    "X_train.shape, X_test.shape"
   ]
  },
  {
   "cell_type": "markdown",
   "metadata": {},
   "source": [
    "### 1.2.5 Check for outliers <a id = \"1.2.5\"></a>\n",
    "\n",
    "[Back to top](#top)"
   ]
  },
  {
   "cell_type": "markdown",
   "metadata": {},
   "source": [
    "### 1.2.5.1 Before Transformation <a id = \"1.2.5.1\"></a>\n",
    "\n",
    "[Back to top](#top)"
   ]
  },
  {
   "cell_type": "code",
   "execution_count": 27,
   "metadata": {},
   "outputs": [],
   "source": [
    "# Create method to plot boxplot and histogram to see data distribution\n",
    "def boxplot_kdeplot(df, column):\n",
    "    plt.figure(figsize = (14, 4))\n",
    "    plt.subplot(1, 2, 1)\n",
    "    sns.boxplot(data = df, x = column)\n",
    "    plt.subplot(1, 2, 2)\n",
    "    sns.kdeplot(data = df, x = column, shade = True)"
   ]
  },
  {
   "cell_type": "code",
   "execution_count": 28,
   "metadata": {
    "scrolled": true
   },
   "outputs": [
    {
     "data": {
      "image/png": "[encoded data removed]",
      "text/plain": [
       "<Figure size 1008x288 with 2 Axes>"
      ]
     },
     "metadata": {
      "needs_background": "light"
     },
     "output_type": "display_data"
    },
    {
     "data": {
      "image/png": "[encoded data removed]",
      "text/plain": [
       "<Figure size 1008x288 with 2 Axes>"
      ]
     },
     "metadata": {
      "needs_background": "light"
     },
     "output_type": "display_data"
    },
    {
     "data": {
      "image/png": "[encoded data removed]",
      "text/plain": [
       "<Figure size 1008x288 with 2 Axes>"
      ]
     },
     "metadata": {
      "needs_background": "light"
     },
     "output_type": "display_data"
    }
   ],
   "source": [
    "# Create list to store columns with continuous values\n",
    "col = ['age', 'length_of_service', 'avg_training_score']\n",
    "\n",
    "# Plot values\n",
    "for c in col:\n",
    "    boxplot_kdeplot(X_train, c)"
   ]
  },
  {
   "cell_type": "markdown",
   "metadata": {},
   "source": [
    "### 1.2.5.2 After Transformation <a id = \"1.2.5.2\"></a>\n",
    "\n",
    "[Back to top](#top)"
   ]
  },
  {
   "cell_type": "code",
   "execution_count": 29,
   "metadata": {},
   "outputs": [],
   "source": [
    "# Create list to store column names\n",
    "col = ['age', 'length_of_service']\n",
    "\n",
    "# initialize the transformer with a subset of variables to transform\n",
    "yjt = YeoJohnsonTransformer(variables = col)\n",
    "\n",
    "# fit transformer to the dataframe\n",
    "yjt.fit(X_train)\n",
    "\n",
    "# transform indicated variables\n",
    "X_train_tf = yjt.transform(X_train)"
   ]
  },
  {
   "cell_type": "code",
   "execution_count": 30,
   "metadata": {
    "scrolled": true
   },
   "outputs": [
    {
     "data": {
      "image/png": "[encoded data removed]",
      "text/plain": [
       "<Figure size 1008x288 with 2 Axes>"
      ]
     },
     "metadata": {
      "needs_background": "light"
     },
     "output_type": "display_data"
    },
    {
     "data": {
      "image/png": "[encoded data removed]",
      "text/plain": [
       "<Figure size 1008x288 with 2 Axes>"
      ]
     },
     "metadata": {
      "needs_background": "light"
     },
     "output_type": "display_data"
    }
   ],
   "source": [
    "# Plot values\n",
    "for c in col:\n",
    "    boxplot_kdeplot(X_train_tf, c)"
   ]
  },
  {
   "cell_type": "markdown",
   "metadata": {},
   "source": [
    "### 1.2.6 Standardise data <a id = \"1.2.6\"></a>\n",
    "\n",
    "[Back to top](#top)"
   ]
  },
  {
   "cell_type": "code",
   "execution_count": 31,
   "metadata": {},
   "outputs": [],
   "source": [
    "def PlotScale(data):\n",
    "    # Set plot size\n",
    "    fig, (ax1) = plt.subplots(figsize = (9, 6))\n",
    "    \n",
    "    # Plot values\n",
    "    for column in data:\n",
    "        sns.kdeplot(data[column], ax = ax1, label = column)\n",
    "    \n",
    "    # Show legend\n",
    "    ax1.legend()\n",
    "    \n",
    "    plt.show()"
   ]
  },
  {
   "cell_type": "code",
   "execution_count": 32,
   "metadata": {
    "scrolled": true
   },
   "outputs": [
    {
     "data": {
      "image/png": "[encoded data removed]",
      "text/plain": [
       "<Figure size 648x432 with 1 Axes>"
      ]
     },
     "metadata": {
      "needs_background": "light"
     },
     "output_type": "display_data"
    }
   ],
   "source": [
    "PlotScale(X_train_tf)"
   ]
  },
  {
   "cell_type": "code",
   "execution_count": 33,
   "metadata": {
    "scrolled": true
   },
   "outputs": [
    {
     "data": {
      "image/png": "[encoded data removed]",
      "text/plain": [
       "<Figure size 648x432 with 1 Axes>"
      ]
     },
     "metadata": {
      "needs_background": "light"
     },
     "output_type": "display_data"
    }
   ],
   "source": [
    "# Scale the data\n",
    "X_train_scaled = (X_train_tf - X_train_tf.mean()) / (X_train_tf.max() - X_train_tf.min())\n",
    "PlotScale(X_train_scaled)"
   ]
  },
  {
   "cell_type": "markdown",
   "metadata": {},
   "source": [
    "## 1.3 Correlation Analysis <a id = \"1.3\"></a>\n",
    "\n",
    "[Back to top](#top)"
   ]
  },
  {
   "cell_type": "code",
   "execution_count": 34,
   "metadata": {
    "scrolled": true
   },
   "outputs": [
    {
     "data": {
      "text/html": [
       "<table class=\"simpletable\">\n",
       "<caption>OLS Regression Results</caption>\n",
       "<tr>\n",
       "  <th>Dep. Variable:</th>       <td>is_promoted</td>   <th>  R-squared (uncentered):</th>      <td>   0.148</td> \n",
       "</tr>\n",
       "<tr>\n",
       "  <th>Model:</th>                   <td>OLS</td>       <th>  Adj. R-squared (uncentered):</th> <td>   0.147</td> \n",
       "</tr>\n",
       "<tr>\n",
       "  <th>Method:</th>             <td>Least Squares</td>  <th>  F-statistic:       </th>          <td>   81.22</td> \n",
       "</tr>\n",
       "<tr>\n",
       "  <th>Date:</th>             <td>Fri, 16 Dec 2022</td> <th>  Prob (F-statistic):</th>          <td>4.43e-215</td>\n",
       "</tr>\n",
       "<tr>\n",
       "  <th>Time:</th>                 <td>13:04:03</td>     <th>  Log-Likelihood:    </th>          <td> -6460.1</td> \n",
       "</tr>\n",
       "<tr>\n",
       "  <th>No. Observations:</th>      <td>  6535</td>      <th>  AIC:               </th>          <td>1.295e+04</td>\n",
       "</tr>\n",
       "<tr>\n",
       "  <th>Df Residuals:</th>          <td>  6521</td>      <th>  BIC:               </th>          <td>1.304e+04</td>\n",
       "</tr>\n",
       "<tr>\n",
       "  <th>Df Model:</th>              <td>    14</td>      <th>                     </th>              <td> </td>    \n",
       "</tr>\n",
       "<tr>\n",
       "  <th>Covariance Type:</th>      <td>nonrobust</td>    <th>                     </th>              <td> </td>    \n",
       "</tr>\n",
       "</table>\n",
       "<table class=\"simpletable\">\n",
       "<tr>\n",
       "            <td></td>              <th>coef</th>     <th>std err</th>      <th>t</th>      <th>P>|t|</th>  <th>[0.025</th>    <th>0.975]</th>  \n",
       "</tr>\n",
       "<tr>\n",
       "  <th>department</th>           <td>   -0.2802</td> <td>    0.036</td> <td>   -7.847</td> <td> 0.000</td> <td>   -0.350</td> <td>   -0.210</td>\n",
       "</tr>\n",
       "<tr>\n",
       "  <th>region</th>               <td>   -0.0719</td> <td>    0.027</td> <td>   -2.636</td> <td> 0.008</td> <td>   -0.125</td> <td>   -0.018</td>\n",
       "</tr>\n",
       "<tr>\n",
       "  <th>no_of_trainings</th>      <td>   -0.1537</td> <td>    0.087</td> <td>   -1.774</td> <td> 0.076</td> <td>   -0.324</td> <td>    0.016</td>\n",
       "</tr>\n",
       "<tr>\n",
       "  <th>age</th>                  <td>   -0.1360</td> <td>    0.067</td> <td>   -2.030</td> <td> 0.042</td> <td>   -0.267</td> <td>   -0.005</td>\n",
       "</tr>\n",
       "<tr>\n",
       "  <th>previous_year_rating</th> <td>    0.2741</td> <td>    0.029</td> <td>    9.574</td> <td> 0.000</td> <td>    0.218</td> <td>    0.330</td>\n",
       "</tr>\n",
       "<tr>\n",
       "  <th>length_of_service</th>    <td>   -0.0013</td> <td>    0.054</td> <td>   -0.024</td> <td> 0.981</td> <td>   -0.106</td> <td>    0.104</td>\n",
       "</tr>\n",
       "<tr>\n",
       "  <th>KPIs_met >80%</th>        <td>    0.3255</td> <td>    0.017</td> <td>   19.330</td> <td> 0.000</td> <td>    0.292</td> <td>    0.359</td>\n",
       "</tr>\n",
       "<tr>\n",
       "  <th>awards_won?</th>          <td>    0.2381</td> <td>    0.034</td> <td>    7.084</td> <td> 0.000</td> <td>    0.172</td> <td>    0.304</td>\n",
       "</tr>\n",
       "<tr>\n",
       "  <th>avg_training_score</th>   <td>    0.6289</td> <td>    0.036</td> <td>   17.317</td> <td> 0.000</td> <td>    0.558</td> <td>    0.700</td>\n",
       "</tr>\n",
       "<tr>\n",
       "  <th>Bachelor's</th>           <td>    0.0075</td> <td>    0.022</td> <td>    0.331</td> <td> 0.741</td> <td>   -0.037</td> <td>    0.052</td>\n",
       "</tr>\n",
       "<tr>\n",
       "  <th>Below Secondary</th>      <td>   -0.0500</td> <td>    0.044</td> <td>   -1.130</td> <td> 0.259</td> <td>   -0.137</td> <td>    0.037</td>\n",
       "</tr>\n",
       "<tr>\n",
       "  <th>Master's & above</th>     <td>    0.0425</td> <td>    0.026</td> <td>    1.648</td> <td> 0.099</td> <td>   -0.008</td> <td>    0.093</td>\n",
       "</tr>\n",
       "<tr>\n",
       "  <th>f</th>                    <td>   -0.0111</td> <td>    0.009</td> <td>   -1.258</td> <td> 0.208</td> <td>   -0.028</td> <td>    0.006</td>\n",
       "</tr>\n",
       "<tr>\n",
       "  <th>m</th>                    <td>    0.0111</td> <td>    0.009</td> <td>    1.258</td> <td> 0.208</td> <td>   -0.006</td> <td>    0.028</td>\n",
       "</tr>\n",
       "<tr>\n",
       "  <th>other</th>                <td>    0.0097</td> <td>    0.018</td> <td>    0.527</td> <td> 0.598</td> <td>   -0.026</td> <td>    0.046</td>\n",
       "</tr>\n",
       "<tr>\n",
       "  <th>referred</th>             <td>   -0.0131</td> <td>    0.033</td> <td>   -0.392</td> <td> 0.695</td> <td>   -0.078</td> <td>    0.052</td>\n",
       "</tr>\n",
       "<tr>\n",
       "  <th>sourcing</th>             <td>    0.0033</td> <td>    0.019</td> <td>    0.179</td> <td> 0.858</td> <td>   -0.033</td> <td>    0.040</td>\n",
       "</tr>\n",
       "</table>\n",
       "<table class=\"simpletable\">\n",
       "<tr>\n",
       "  <th>Omnibus:</th>       <td>1439.844</td> <th>  Durbin-Watson:     </th> <td>   0.820</td>\n",
       "</tr>\n",
       "<tr>\n",
       "  <th>Prob(Omnibus):</th>  <td> 0.000</td>  <th>  Jarque-Bera (JB):  </th> <td> 287.512</td>\n",
       "</tr>\n",
       "<tr>\n",
       "  <th>Skew:</th>           <td>-0.135</td>  <th>  Prob(JB):          </th> <td>3.69e-63</td>\n",
       "</tr>\n",
       "<tr>\n",
       "  <th>Kurtosis:</th>       <td> 2.008</td>  <th>  Cond. No.          </th> <td>1.11e+16</td>\n",
       "</tr>\n",
       "</table><br/><br/>Notes:<br/>[1] R² is computed without centering (uncentered) since the model does not contain a constant.<br/>[2] Standard Errors assume that the covariance matrix of the errors is correctly specified.<br/>[3] The smallest eigenvalue is 2.55e-29. This might indicate that there are<br/>strong multicollinearity problems or that the design matrix is singular."
      ],
      "text/plain": [
       "<class 'statsmodels.iolib.summary.Summary'>\n",
       "\"\"\"\n",
       "                                 OLS Regression Results                                \n",
       "=======================================================================================\n",
       "Dep. Variable:            is_promoted   R-squared (uncentered):                   0.148\n",
       "Model:                            OLS   Adj. R-squared (uncentered):              0.147\n",
       "Method:                 Least Squares   F-statistic:                              81.22\n",
       "Date:                Fri, 16 Dec 2022   Prob (F-statistic):                   4.43e-215\n",
       "Time:                        13:04:03   Log-Likelihood:                         -6460.1\n",
       "No. Observations:                6535   AIC:                                  1.295e+04\n",
       "Df Residuals:                    6521   BIC:                                  1.304e+04\n",
       "Df Model:                          14                                                  \n",
       "Covariance Type:            nonrobust                                                  \n",
       "========================================================================================\n",
       "                           coef    std err          t      P>|t|      [0.025      0.975]\n",
       "----------------------------------------------------------------------------------------\n",
       "department              -0.2802      0.036     -7.847      0.000      -0.350      -0.210\n",
       "region                  -0.0719      0.027     -2.636      0.008      -0.125      -0.018\n",
       "no_of_trainings         -0.1537      0.087     -1.774      0.076      -0.324       0.016\n",
       "age                     -0.1360      0.067     -2.030      0.042      -0.267      -0.005\n",
       "previous_year_rating     0.2741      0.029      9.574      0.000       0.218       0.330\n",
       "length_of_service       -0.0013      0.054     -0.024      0.981      -0.106       0.104\n",
       "KPIs_met >80%            0.3255      0.017     19.330      0.000       0.292       0.359\n",
       "awards_won?              0.2381      0.034      7.084      0.000       0.172       0.304\n",
       "avg_training_score       0.6289      0.036     17.317      0.000       0.558       0.700\n",
       "Bachelor's               0.0075      0.022      0.331      0.741      -0.037       0.052\n",
       "Below Secondary         -0.0500      0.044     -1.130      0.259      -0.137       0.037\n",
       "Master's & above         0.0425      0.026      1.648      0.099      -0.008       0.093\n",
       "f                       -0.0111      0.009     -1.258      0.208      -0.028       0.006\n",
       "m                        0.0111      0.009      1.258      0.208      -0.006       0.028\n",
       "other                    0.0097      0.018      0.527      0.598      -0.026       0.046\n",
       "referred                -0.0131      0.033     -0.392      0.695      -0.078       0.052\n",
       "sourcing                 0.0033      0.019      0.179      0.858      -0.033       0.040\n",
       "==============================================================================\n",
       "Omnibus:                     1439.844   Durbin-Watson:                   0.820\n",
       "Prob(Omnibus):                  0.000   Jarque-Bera (JB):              287.512\n",
       "Skew:                          -0.135   Prob(JB):                     3.69e-63\n",
       "Kurtosis:                       2.008   Cond. No.                     1.11e+16\n",
       "==============================================================================\n",
       "\n",
       "Notes:\n",
       "[1] R² is computed without centering (uncentered) since the model does not contain a constant.\n",
       "[2] Standard Errors assume that the covariance matrix of the errors is correctly specified.\n",
       "[3] The smallest eigenvalue is 2.55e-29. This might indicate that there are\n",
       "strong multicollinearity problems or that the design matrix is singular.\n",
       "\"\"\""
      ]
     },
     "execution_count": 34,
     "metadata": {},
     "output_type": "execute_result"
    }
   ],
   "source": [
    "# Create a model using statsmodels.api: the Ordinary Least Squares (OLS) method and fit function\n",
    "ols = sm.OLS(y_train, X_train_scaled).fit()\n",
    "\n",
    "# Summary statistics from the model\n",
    "ols.summary()"
   ]
  },
  {
   "cell_type": "code",
   "execution_count": 35,
   "metadata": {},
   "outputs": [],
   "source": [
    "# Remove columns with P>|t| values more than 0.05\n",
    "# no_of_trainings, length_of_service, Bachelor's, Below Secondary, Master's & above, f, m, other, referred, sourcing\n",
    "df1_final = df1_new.drop(['no_of_trainings', 'length_of_service', \"Bachelor's\", 'Below Secondary', \"Master's & above\", \n",
    "                          'f', 'm', \"other\", \"referred\", \"sourcing\"], axis = 1)"
   ]
  },
  {
   "cell_type": "code",
   "execution_count": 36,
   "metadata": {},
   "outputs": [
    {
     "data": {
      "text/plain": [
       "((6535, 7), (2801, 7))"
      ]
     },
     "execution_count": 36,
     "metadata": {},
     "output_type": "execute_result"
    }
   ],
   "source": [
    "# Split both Inputs (X) and Ouput (y) into training set (70%) and testing set (30%)\n",
    "X_train, X_test, y_train, y_test = train_test_split(df1_final.drop(['is_promoted'], axis = 1), \n",
    "                                                    df1_final['is_promoted'], \n",
    "                                                    test_size = 0.3, \n",
    "                                                    random_state = 10)\n",
    "X_train.shape, X_test.shape"
   ]
  },
  {
   "cell_type": "code",
   "execution_count": 37,
   "metadata": {},
   "outputs": [],
   "source": [
    "# Create list to store column names\n",
    "col = ['age', 'avg_training_score']\n",
    "\n",
    "# initialize the transformer with a subset of variables to transform\n",
    "yjt = YeoJohnsonTransformer(variables = col)\n",
    "\n",
    "# fit transformer to the dataframe\n",
    "yjt.fit(X_train)\n",
    "\n",
    "# transform indicated variables\n",
    "X_train_tf = yjt.transform(X_train)"
   ]
  },
  {
   "cell_type": "code",
   "execution_count": 38,
   "metadata": {},
   "outputs": [],
   "source": [
    "# Scale the data\n",
    "X_train_scaled = (X_train_tf - X_train_tf.mean()) / (X_train_tf.max() - X_train_tf.min())"
   ]
  },
  {
   "cell_type": "code",
   "execution_count": 39,
   "metadata": {
    "scrolled": true
   },
   "outputs": [
    {
     "data": {
      "text/html": [
       "<table class=\"simpletable\">\n",
       "<caption>OLS Regression Results</caption>\n",
       "<tr>\n",
       "  <th>Dep. Variable:</th>       <td>is_promoted</td>   <th>  R-squared (uncentered):</th>      <td>   0.147</td> \n",
       "</tr>\n",
       "<tr>\n",
       "  <th>Model:</th>                   <td>OLS</td>       <th>  Adj. R-squared (uncentered):</th> <td>   0.146</td> \n",
       "</tr>\n",
       "<tr>\n",
       "  <th>Method:</th>             <td>Least Squares</td>  <th>  F-statistic:       </th>          <td>   160.2</td> \n",
       "</tr>\n",
       "<tr>\n",
       "  <th>Date:</th>             <td>Fri, 16 Dec 2022</td> <th>  Prob (F-statistic):</th>          <td>2.98e-219</td>\n",
       "</tr>\n",
       "<tr>\n",
       "  <th>Time:</th>                 <td>13:04:03</td>     <th>  Log-Likelihood:    </th>          <td> -6467.4</td> \n",
       "</tr>\n",
       "<tr>\n",
       "  <th>No. Observations:</th>      <td>  6535</td>      <th>  AIC:               </th>          <td>1.295e+04</td>\n",
       "</tr>\n",
       "<tr>\n",
       "  <th>Df Residuals:</th>          <td>  6528</td>      <th>  BIC:               </th>          <td>1.300e+04</td>\n",
       "</tr>\n",
       "<tr>\n",
       "  <th>Df Model:</th>              <td>     7</td>      <th>                     </th>              <td> </td>    \n",
       "</tr>\n",
       "<tr>\n",
       "  <th>Covariance Type:</th>      <td>nonrobust</td>    <th>                     </th>              <td> </td>    \n",
       "</tr>\n",
       "</table>\n",
       "<table class=\"simpletable\">\n",
       "<tr>\n",
       "            <td></td>              <th>coef</th>     <th>std err</th>      <th>t</th>      <th>P>|t|</th>  <th>[0.025</th>    <th>0.975]</th>  \n",
       "</tr>\n",
       "<tr>\n",
       "  <th>department</th>           <td>   -0.2857</td> <td>    0.036</td> <td>   -7.985</td> <td> 0.000</td> <td>   -0.356</td> <td>   -0.216</td>\n",
       "</tr>\n",
       "<tr>\n",
       "  <th>region</th>               <td>   -0.0627</td> <td>    0.027</td> <td>   -2.345</td> <td> 0.019</td> <td>   -0.115</td> <td>   -0.010</td>\n",
       "</tr>\n",
       "<tr>\n",
       "  <th>age</th>                  <td>   -0.0834</td> <td>    0.047</td> <td>   -1.781</td> <td> 0.075</td> <td>   -0.175</td> <td>    0.008</td>\n",
       "</tr>\n",
       "<tr>\n",
       "  <th>previous_year_rating</th> <td>    0.2753</td> <td>    0.029</td> <td>    9.637</td> <td> 0.000</td> <td>    0.219</td> <td>    0.331</td>\n",
       "</tr>\n",
       "<tr>\n",
       "  <th>KPIs_met >80%</th>        <td>    0.3263</td> <td>    0.017</td> <td>   19.395</td> <td> 0.000</td> <td>    0.293</td> <td>    0.359</td>\n",
       "</tr>\n",
       "<tr>\n",
       "  <th>awards_won?</th>          <td>    0.2482</td> <td>    0.033</td> <td>    7.415</td> <td> 0.000</td> <td>    0.183</td> <td>    0.314</td>\n",
       "</tr>\n",
       "<tr>\n",
       "  <th>avg_training_score</th>   <td>    0.6417</td> <td>    0.037</td> <td>   17.140</td> <td> 0.000</td> <td>    0.568</td> <td>    0.715</td>\n",
       "</tr>\n",
       "</table>\n",
       "<table class=\"simpletable\">\n",
       "<tr>\n",
       "  <th>Omnibus:</th>       <td>1422.781</td> <th>  Durbin-Watson:     </th> <td>   0.822</td>\n",
       "</tr>\n",
       "<tr>\n",
       "  <th>Prob(Omnibus):</th>  <td> 0.000</td>  <th>  Jarque-Bera (JB):  </th> <td> 292.957</td>\n",
       "</tr>\n",
       "<tr>\n",
       "  <th>Skew:</th>           <td>-0.157</td>  <th>  Prob(JB):          </th> <td>2.43e-64</td>\n",
       "</tr>\n",
       "<tr>\n",
       "  <th>Kurtosis:</th>       <td> 2.012</td>  <th>  Cond. No.          </th> <td>    3.04</td>\n",
       "</tr>\n",
       "</table><br/><br/>Notes:<br/>[1] R² is computed without centering (uncentered) since the model does not contain a constant.<br/>[2] Standard Errors assume that the covariance matrix of the errors is correctly specified."
      ],
      "text/plain": [
       "<class 'statsmodels.iolib.summary.Summary'>\n",
       "\"\"\"\n",
       "                                 OLS Regression Results                                \n",
       "=======================================================================================\n",
       "Dep. Variable:            is_promoted   R-squared (uncentered):                   0.147\n",
       "Model:                            OLS   Adj. R-squared (uncentered):              0.146\n",
       "Method:                 Least Squares   F-statistic:                              160.2\n",
       "Date:                Fri, 16 Dec 2022   Prob (F-statistic):                   2.98e-219\n",
       "Time:                        13:04:03   Log-Likelihood:                         -6467.4\n",
       "No. Observations:                6535   AIC:                                  1.295e+04\n",
       "Df Residuals:                    6528   BIC:                                  1.300e+04\n",
       "Df Model:                           7                                                  \n",
       "Covariance Type:            nonrobust                                                  \n",
       "========================================================================================\n",
       "                           coef    std err          t      P>|t|      [0.025      0.975]\n",
       "----------------------------------------------------------------------------------------\n",
       "department              -0.2857      0.036     -7.985      0.000      -0.356      -0.216\n",
       "region                  -0.0627      0.027     -2.345      0.019      -0.115      -0.010\n",
       "age                     -0.0834      0.047     -1.781      0.075      -0.175       0.008\n",
       "previous_year_rating     0.2753      0.029      9.637      0.000       0.219       0.331\n",
       "KPIs_met >80%            0.3263      0.017     19.395      0.000       0.293       0.359\n",
       "awards_won?              0.2482      0.033      7.415      0.000       0.183       0.314\n",
       "avg_training_score       0.6417      0.037     17.140      0.000       0.568       0.715\n",
       "==============================================================================\n",
       "Omnibus:                     1422.781   Durbin-Watson:                   0.822\n",
       "Prob(Omnibus):                  0.000   Jarque-Bera (JB):              292.957\n",
       "Skew:                          -0.157   Prob(JB):                     2.43e-64\n",
       "Kurtosis:                       2.012   Cond. No.                         3.04\n",
       "==============================================================================\n",
       "\n",
       "Notes:\n",
       "[1] R² is computed without centering (uncentered) since the model does not contain a constant.\n",
       "[2] Standard Errors assume that the covariance matrix of the errors is correctly specified.\n",
       "\"\"\""
      ]
     },
     "execution_count": 39,
     "metadata": {},
     "output_type": "execute_result"
    }
   ],
   "source": [
    "# Create a model using statsmodel.api: the Ordinary Least Squares (OLS) method and fit function\n",
    "ols = sm.OLS(y_train, X_train_scaled).fit()\n",
    "\n",
    "# Summary statistics from the model\n",
    "ols.summary()"
   ]
  },
  {
   "cell_type": "markdown",
   "metadata": {},
   "source": [
    "## 1.4 Export the data <a id = \"1.4\"></a>\n",
    "\n",
    "[Back to top](#top)"
   ]
  },
  {
   "cell_type": "code",
   "execution_count": 40,
   "metadata": {},
   "outputs": [],
   "source": [
    "hr_final_Xtrain = X_train_scaled\n",
    "hr_final_Xtest = X_test\n",
    "hr_final_ytrain = y_train\n",
    "hr_final_ytest = y_test\n",
    "\n",
    "hr_final_Xtrain.to_csv('hr_final_Xtrain.csv', index = False, sep = ',', encoding = 'utf-8')\n",
    "hr_final_Xtest.to_csv('hr_final_Xtest.csv', index = False, sep = ',', encoding = 'utf-8')\n",
    "hr_final_ytrain.to_csv('hr_final_ytrain.csv', index = False, sep = ',', encoding = 'utf-8')\n",
    "hr_final_ytest.to_csv('hr_final_ytest.csv', index = False, sep = ',', encoding = 'utf-8')"
   ]
  },
  {
   "cell_type": "markdown",
   "metadata": {},
   "source": [
    "# 2. Airbnb <a id = \"2\"></a>\n",
    "\n",
    "[Back to top](#top)"
   ]
  },
  {
   "cell_type": "markdown",
   "metadata": {},
   "source": [
    "## 2.1 Load and Explore the data <a id = \"2.1\"></a>\n",
    "\n",
    "[Back to top](#top)"
   ]
  },
  {
   "cell_type": "code",
   "execution_count": 41,
   "metadata": {
    "scrolled": true
   },
   "outputs": [
    {
     "data": {
      "text/html": [
       "<div>\n",
       "<style scoped>\n",
       "    .dataframe tbody tr th:only-of-type {\n",
       "        vertical-align: middle;\n",
       "    }\n",
       "\n",
       "    .dataframe tbody tr th {\n",
       "        vertical-align: top;\n",
       "    }\n",
       "\n",
       "    .dataframe thead th {\n",
       "        text-align: right;\n",
       "    }\n",
       "</style>\n",
       "<table border=\"1\" class=\"dataframe\">\n",
       "  <thead>\n",
       "    <tr style=\"text-align: right;\">\n",
       "      <th></th>\n",
       "      <th>id</th>\n",
       "      <th>name</th>\n",
       "      <th>host_id</th>\n",
       "      <th>host_name</th>\n",
       "      <th>neighbourhood_group</th>\n",
       "      <th>neighbourhood</th>\n",
       "      <th>latitude</th>\n",
       "      <th>longitude</th>\n",
       "      <th>room_type</th>\n",
       "      <th>price</th>\n",
       "      <th>minimum_nights</th>\n",
       "      <th>number_of_reviews</th>\n",
       "      <th>last_review</th>\n",
       "      <th>reviews_per_month</th>\n",
       "      <th>calculated_host_listings_count</th>\n",
       "      <th>availability_365</th>\n",
       "    </tr>\n",
       "  </thead>\n",
       "  <tbody>\n",
       "    <tr>\n",
       "      <th>0</th>\n",
       "      <td>49091</td>\n",
       "      <td>COZICOMFORT LONG TERM STAY ROOM 2</td>\n",
       "      <td>266763</td>\n",
       "      <td>Francesca</td>\n",
       "      <td>North Region</td>\n",
       "      <td>Woodlands</td>\n",
       "      <td>1.44255</td>\n",
       "      <td>103.79580</td>\n",
       "      <td>Private room</td>\n",
       "      <td>83</td>\n",
       "      <td>180</td>\n",
       "      <td>1</td>\n",
       "      <td>2013-10-21</td>\n",
       "      <td>0.01</td>\n",
       "      <td>2</td>\n",
       "      <td>365</td>\n",
       "    </tr>\n",
       "    <tr>\n",
       "      <th>1</th>\n",
       "      <td>50646</td>\n",
       "      <td>Pleasant Room along Bukit Timah</td>\n",
       "      <td>227796</td>\n",
       "      <td>Sujatha</td>\n",
       "      <td>Central Region</td>\n",
       "      <td>Bukit Timah</td>\n",
       "      <td>1.33235</td>\n",
       "      <td>103.78521</td>\n",
       "      <td>Private room</td>\n",
       "      <td>81</td>\n",
       "      <td>90</td>\n",
       "      <td>18</td>\n",
       "      <td>2014-12-26</td>\n",
       "      <td>0.28</td>\n",
       "      <td>1</td>\n",
       "      <td>365</td>\n",
       "    </tr>\n",
       "    <tr>\n",
       "      <th>2</th>\n",
       "      <td>56334</td>\n",
       "      <td>COZICOMFORT</td>\n",
       "      <td>266763</td>\n",
       "      <td>Francesca</td>\n",
       "      <td>North Region</td>\n",
       "      <td>Woodlands</td>\n",
       "      <td>1.44246</td>\n",
       "      <td>103.79667</td>\n",
       "      <td>Private room</td>\n",
       "      <td>69</td>\n",
       "      <td>6</td>\n",
       "      <td>20</td>\n",
       "      <td>2015-10-01</td>\n",
       "      <td>0.20</td>\n",
       "      <td>2</td>\n",
       "      <td>365</td>\n",
       "    </tr>\n",
       "    <tr>\n",
       "      <th>3</th>\n",
       "      <td>71609</td>\n",
       "      <td>Ensuite Room (Room 1 &amp; 2) near EXPO</td>\n",
       "      <td>367042</td>\n",
       "      <td>Belinda</td>\n",
       "      <td>East Region</td>\n",
       "      <td>Tampines</td>\n",
       "      <td>1.34541</td>\n",
       "      <td>103.95712</td>\n",
       "      <td>Private room</td>\n",
       "      <td>206</td>\n",
       "      <td>1</td>\n",
       "      <td>14</td>\n",
       "      <td>2019-08-11</td>\n",
       "      <td>0.15</td>\n",
       "      <td>9</td>\n",
       "      <td>353</td>\n",
       "    </tr>\n",
       "    <tr>\n",
       "      <th>4</th>\n",
       "      <td>71896</td>\n",
       "      <td>B&amp;B  Room 1 near Airport &amp; EXPO</td>\n",
       "      <td>367042</td>\n",
       "      <td>Belinda</td>\n",
       "      <td>East Region</td>\n",
       "      <td>Tampines</td>\n",
       "      <td>1.34567</td>\n",
       "      <td>103.95963</td>\n",
       "      <td>Private room</td>\n",
       "      <td>94</td>\n",
       "      <td>1</td>\n",
       "      <td>22</td>\n",
       "      <td>2019-07-28</td>\n",
       "      <td>0.22</td>\n",
       "      <td>9</td>\n",
       "      <td>355</td>\n",
       "    </tr>\n",
       "  </tbody>\n",
       "</table>\n",
       "</div>"
      ],
      "text/plain": [
       "      id                                 name  host_id  host_name  \\\n",
       "0  49091    COZICOMFORT LONG TERM STAY ROOM 2   266763  Francesca   \n",
       "1  50646      Pleasant Room along Bukit Timah   227796    Sujatha   \n",
       "2  56334                          COZICOMFORT   266763  Francesca   \n",
       "3  71609  Ensuite Room (Room 1 & 2) near EXPO   367042    Belinda   \n",
       "4  71896      B&B  Room 1 near Airport & EXPO   367042    Belinda   \n",
       "\n",
       "  neighbourhood_group neighbourhood  latitude  longitude     room_type  price  \\\n",
       "0        North Region     Woodlands   1.44255  103.79580  Private room     83   \n",
       "1      Central Region   Bukit Timah   1.33235  103.78521  Private room     81   \n",
       "2        North Region     Woodlands   1.44246  103.79667  Private room     69   \n",
       "3         East Region      Tampines   1.34541  103.95712  Private room    206   \n",
       "4         East Region      Tampines   1.34567  103.95963  Private room     94   \n",
       "\n",
       "   minimum_nights  number_of_reviews last_review  reviews_per_month  \\\n",
       "0             180                  1  2013-10-21               0.01   \n",
       "1              90                 18  2014-12-26               0.28   \n",
       "2               6                 20  2015-10-01               0.20   \n",
       "3               1                 14  2019-08-11               0.15   \n",
       "4               1                 22  2019-07-28               0.22   \n",
       "\n",
       "   calculated_host_listings_count  availability_365  \n",
       "0                               2               365  \n",
       "1                               1               365  \n",
       "2                               2               365  \n",
       "3                               9               353  \n",
       "4                               9               355  "
      ]
     },
     "execution_count": 41,
     "metadata": {},
     "output_type": "execute_result"
    }
   ],
   "source": [
    "# Load dataset into a DataFrame\n",
    "df_regressor = pd.read_csv(\"./data/listings.csv\")\n",
    "\n",
    "# Create a copy of the DataFrame\n",
    "df2 = df_regressor.copy()\n",
    "\n",
    "# Show overview of the dataset\n",
    "df2.head()"
   ]
  },
  {
   "cell_type": "code",
   "execution_count": 42,
   "metadata": {
    "scrolled": false
   },
   "outputs": [
    {
     "name": "stdout",
     "output_type": "stream",
     "text": [
      "<class 'pandas.core.frame.DataFrame'>\n",
      "RangeIndex: 7907 entries, 0 to 7906\n",
      "Data columns (total 16 columns):\n",
      " #   Column                          Non-Null Count  Dtype  \n",
      "---  ------                          --------------  -----  \n",
      " 0   id                              7907 non-null   int64  \n",
      " 1   name                            7905 non-null   object \n",
      " 2   host_id                         7907 non-null   int64  \n",
      " 3   host_name                       7907 non-null   object \n",
      " 4   neighbourhood_group             7907 non-null   object \n",
      " 5   neighbourhood                   7907 non-null   object \n",
      " 6   latitude                        7907 non-null   float64\n",
      " 7   longitude                       7907 non-null   float64\n",
      " 8   room_type                       7907 non-null   object \n",
      " 9   price                           7907 non-null   int64  \n",
      " 10  minimum_nights                  7907 non-null   int64  \n",
      " 11  number_of_reviews               7907 non-null   int64  \n",
      " 12  last_review                     5149 non-null   object \n",
      " 13  reviews_per_month               5149 non-null   float64\n",
      " 14  calculated_host_listings_count  7907 non-null   int64  \n",
      " 15  availability_365                7907 non-null   int64  \n",
      "dtypes: float64(3), int64(7), object(6)\n",
      "memory usage: 988.5+ KB\n"
     ]
    }
   ],
   "source": [
    "df2.info()"
   ]
  },
  {
   "cell_type": "code",
   "execution_count": 43,
   "metadata": {
    "scrolled": true
   },
   "outputs": [
    {
     "data": {
      "text/plain": [
       "id                                   0\n",
       "name                                 2\n",
       "host_id                              0\n",
       "host_name                            0\n",
       "neighbourhood_group                  0\n",
       "neighbourhood                        0\n",
       "latitude                             0\n",
       "longitude                            0\n",
       "room_type                            0\n",
       "price                                0\n",
       "minimum_nights                       0\n",
       "number_of_reviews                    0\n",
       "last_review                       2758\n",
       "reviews_per_month                 2758\n",
       "calculated_host_listings_count       0\n",
       "availability_365                     0\n",
       "dtype: int64"
      ]
     },
     "execution_count": 43,
     "metadata": {},
     "output_type": "execute_result"
    }
   ],
   "source": [
    "df2.isnull().sum()"
   ]
  },
  {
   "cell_type": "markdown",
   "metadata": {},
   "source": [
    "## 2.2 Cleanse and Transform the data <a id = \"2.2\"></a>\n",
    "\n",
    "[Back to top](#top)"
   ]
  },
  {
   "cell_type": "code",
   "execution_count": 44,
   "metadata": {},
   "outputs": [
    {
     "data": {
      "text/html": [
       "<div>\n",
       "<style scoped>\n",
       "    .dataframe tbody tr th:only-of-type {\n",
       "        vertical-align: middle;\n",
       "    }\n",
       "\n",
       "    .dataframe tbody tr th {\n",
       "        vertical-align: top;\n",
       "    }\n",
       "\n",
       "    .dataframe thead th {\n",
       "        text-align: right;\n",
       "    }\n",
       "</style>\n",
       "<table border=\"1\" class=\"dataframe\">\n",
       "  <thead>\n",
       "    <tr style=\"text-align: right;\">\n",
       "      <th></th>\n",
       "      <th>neighbourhood_group</th>\n",
       "      <th>neighbourhood</th>\n",
       "      <th>latitude</th>\n",
       "      <th>longitude</th>\n",
       "      <th>room_type</th>\n",
       "      <th>price</th>\n",
       "      <th>minimum_nights</th>\n",
       "      <th>number_of_reviews</th>\n",
       "      <th>reviews_per_month</th>\n",
       "      <th>calculated_host_listings_count</th>\n",
       "      <th>availability_365</th>\n",
       "    </tr>\n",
       "  </thead>\n",
       "  <tbody>\n",
       "    <tr>\n",
       "      <th>0</th>\n",
       "      <td>North Region</td>\n",
       "      <td>Woodlands</td>\n",
       "      <td>1.44255</td>\n",
       "      <td>103.79580</td>\n",
       "      <td>Private room</td>\n",
       "      <td>83</td>\n",
       "      <td>180</td>\n",
       "      <td>1</td>\n",
       "      <td>0.01</td>\n",
       "      <td>2</td>\n",
       "      <td>365</td>\n",
       "    </tr>\n",
       "    <tr>\n",
       "      <th>1</th>\n",
       "      <td>Central Region</td>\n",
       "      <td>Bukit Timah</td>\n",
       "      <td>1.33235</td>\n",
       "      <td>103.78521</td>\n",
       "      <td>Private room</td>\n",
       "      <td>81</td>\n",
       "      <td>90</td>\n",
       "      <td>18</td>\n",
       "      <td>0.28</td>\n",
       "      <td>1</td>\n",
       "      <td>365</td>\n",
       "    </tr>\n",
       "    <tr>\n",
       "      <th>2</th>\n",
       "      <td>North Region</td>\n",
       "      <td>Woodlands</td>\n",
       "      <td>1.44246</td>\n",
       "      <td>103.79667</td>\n",
       "      <td>Private room</td>\n",
       "      <td>69</td>\n",
       "      <td>6</td>\n",
       "      <td>20</td>\n",
       "      <td>0.20</td>\n",
       "      <td>2</td>\n",
       "      <td>365</td>\n",
       "    </tr>\n",
       "    <tr>\n",
       "      <th>3</th>\n",
       "      <td>East Region</td>\n",
       "      <td>Tampines</td>\n",
       "      <td>1.34541</td>\n",
       "      <td>103.95712</td>\n",
       "      <td>Private room</td>\n",
       "      <td>206</td>\n",
       "      <td>1</td>\n",
       "      <td>14</td>\n",
       "      <td>0.15</td>\n",
       "      <td>9</td>\n",
       "      <td>353</td>\n",
       "    </tr>\n",
       "    <tr>\n",
       "      <th>4</th>\n",
       "      <td>East Region</td>\n",
       "      <td>Tampines</td>\n",
       "      <td>1.34567</td>\n",
       "      <td>103.95963</td>\n",
       "      <td>Private room</td>\n",
       "      <td>94</td>\n",
       "      <td>1</td>\n",
       "      <td>22</td>\n",
       "      <td>0.22</td>\n",
       "      <td>9</td>\n",
       "      <td>355</td>\n",
       "    </tr>\n",
       "  </tbody>\n",
       "</table>\n",
       "</div>"
      ],
      "text/plain": [
       "  neighbourhood_group neighbourhood  latitude  longitude     room_type  price  \\\n",
       "0        North Region     Woodlands   1.44255  103.79580  Private room     83   \n",
       "1      Central Region   Bukit Timah   1.33235  103.78521  Private room     81   \n",
       "2        North Region     Woodlands   1.44246  103.79667  Private room     69   \n",
       "3         East Region      Tampines   1.34541  103.95712  Private room    206   \n",
       "4         East Region      Tampines   1.34567  103.95963  Private room     94   \n",
       "\n",
       "   minimum_nights  number_of_reviews  reviews_per_month  \\\n",
       "0             180                  1               0.01   \n",
       "1              90                 18               0.28   \n",
       "2               6                 20               0.20   \n",
       "3               1                 14               0.15   \n",
       "4               1                 22               0.22   \n",
       "\n",
       "   calculated_host_listings_count  availability_365  \n",
       "0                               2               365  \n",
       "1                               1               365  \n",
       "2                               2               365  \n",
       "3                               9               353  \n",
       "4                               9               355  "
      ]
     },
     "execution_count": 44,
     "metadata": {},
     "output_type": "execute_result"
    }
   ],
   "source": [
    "# Drop columns as they are unneccessary for analysis\n",
    "df2 = df2.drop(['id', 'name', 'host_id', 'host_name', 'last_review'], axis = 1)\n",
    "df2.head()"
   ]
  },
  {
   "cell_type": "markdown",
   "metadata": {},
   "source": [
    "### 2.2.1 Remove nulls <a id = \"2.2.1\"></a>\n",
    "\n",
    "[Back to top](#top)"
   ]
  },
  {
   "cell_type": "code",
   "execution_count": 45,
   "metadata": {
    "scrolled": true
   },
   "outputs": [
    {
     "data": {
      "text/html": [
       "<div>\n",
       "<style scoped>\n",
       "    .dataframe tbody tr th:only-of-type {\n",
       "        vertical-align: middle;\n",
       "    }\n",
       "\n",
       "    .dataframe tbody tr th {\n",
       "        vertical-align: top;\n",
       "    }\n",
       "\n",
       "    .dataframe thead th {\n",
       "        text-align: right;\n",
       "    }\n",
       "</style>\n",
       "<table border=\"1\" class=\"dataframe\">\n",
       "  <thead>\n",
       "    <tr style=\"text-align: right;\">\n",
       "      <th></th>\n",
       "      <th>latitude</th>\n",
       "      <th>longitude</th>\n",
       "      <th>price</th>\n",
       "      <th>minimum_nights</th>\n",
       "      <th>number_of_reviews</th>\n",
       "      <th>reviews_per_month</th>\n",
       "      <th>calculated_host_listings_count</th>\n",
       "      <th>availability_365</th>\n",
       "    </tr>\n",
       "  </thead>\n",
       "  <tbody>\n",
       "    <tr>\n",
       "      <th>count</th>\n",
       "      <td>7907.000000</td>\n",
       "      <td>7907.000000</td>\n",
       "      <td>7907.000000</td>\n",
       "      <td>7907.000000</td>\n",
       "      <td>7907.000000</td>\n",
       "      <td>5149.000000</td>\n",
       "      <td>7907.000000</td>\n",
       "      <td>7907.000000</td>\n",
       "    </tr>\n",
       "    <tr>\n",
       "      <th>mean</th>\n",
       "      <td>1.314192</td>\n",
       "      <td>103.848787</td>\n",
       "      <td>169.332996</td>\n",
       "      <td>17.510054</td>\n",
       "      <td>12.807386</td>\n",
       "      <td>1.043669</td>\n",
       "      <td>40.607689</td>\n",
       "      <td>208.726318</td>\n",
       "    </tr>\n",
       "    <tr>\n",
       "      <th>std</th>\n",
       "      <td>0.030577</td>\n",
       "      <td>0.043675</td>\n",
       "      <td>340.187599</td>\n",
       "      <td>42.094616</td>\n",
       "      <td>29.707746</td>\n",
       "      <td>1.285851</td>\n",
       "      <td>65.135253</td>\n",
       "      <td>146.120034</td>\n",
       "    </tr>\n",
       "    <tr>\n",
       "      <th>min</th>\n",
       "      <td>1.243870</td>\n",
       "      <td>103.646560</td>\n",
       "      <td>0.000000</td>\n",
       "      <td>1.000000</td>\n",
       "      <td>0.000000</td>\n",
       "      <td>0.010000</td>\n",
       "      <td>1.000000</td>\n",
       "      <td>0.000000</td>\n",
       "    </tr>\n",
       "    <tr>\n",
       "      <th>25%</th>\n",
       "      <td>1.295795</td>\n",
       "      <td>103.835825</td>\n",
       "      <td>65.000000</td>\n",
       "      <td>1.000000</td>\n",
       "      <td>0.000000</td>\n",
       "      <td>0.180000</td>\n",
       "      <td>2.000000</td>\n",
       "      <td>54.000000</td>\n",
       "    </tr>\n",
       "    <tr>\n",
       "      <th>50%</th>\n",
       "      <td>1.311030</td>\n",
       "      <td>103.849410</td>\n",
       "      <td>124.000000</td>\n",
       "      <td>3.000000</td>\n",
       "      <td>2.000000</td>\n",
       "      <td>0.550000</td>\n",
       "      <td>9.000000</td>\n",
       "      <td>260.000000</td>\n",
       "    </tr>\n",
       "    <tr>\n",
       "      <th>75%</th>\n",
       "      <td>1.322110</td>\n",
       "      <td>103.872535</td>\n",
       "      <td>199.000000</td>\n",
       "      <td>10.000000</td>\n",
       "      <td>10.000000</td>\n",
       "      <td>1.370000</td>\n",
       "      <td>48.000000</td>\n",
       "      <td>355.000000</td>\n",
       "    </tr>\n",
       "    <tr>\n",
       "      <th>max</th>\n",
       "      <td>1.454590</td>\n",
       "      <td>103.973420</td>\n",
       "      <td>10000.000000</td>\n",
       "      <td>1000.000000</td>\n",
       "      <td>323.000000</td>\n",
       "      <td>13.000000</td>\n",
       "      <td>274.000000</td>\n",
       "      <td>365.000000</td>\n",
       "    </tr>\n",
       "  </tbody>\n",
       "</table>\n",
       "</div>"
      ],
      "text/plain": [
       "          latitude    longitude         price  minimum_nights  \\\n",
       "count  7907.000000  7907.000000   7907.000000     7907.000000   \n",
       "mean      1.314192   103.848787    169.332996       17.510054   \n",
       "std       0.030577     0.043675    340.187599       42.094616   \n",
       "min       1.243870   103.646560      0.000000        1.000000   \n",
       "25%       1.295795   103.835825     65.000000        1.000000   \n",
       "50%       1.311030   103.849410    124.000000        3.000000   \n",
       "75%       1.322110   103.872535    199.000000       10.000000   \n",
       "max       1.454590   103.973420  10000.000000     1000.000000   \n",
       "\n",
       "       number_of_reviews  reviews_per_month  calculated_host_listings_count  \\\n",
       "count        7907.000000        5149.000000                     7907.000000   \n",
       "mean           12.807386           1.043669                       40.607689   \n",
       "std            29.707746           1.285851                       65.135253   \n",
       "min             0.000000           0.010000                        1.000000   \n",
       "25%             0.000000           0.180000                        2.000000   \n",
       "50%             2.000000           0.550000                        9.000000   \n",
       "75%            10.000000           1.370000                       48.000000   \n",
       "max           323.000000          13.000000                      274.000000   \n",
       "\n",
       "       availability_365  \n",
       "count       7907.000000  \n",
       "mean         208.726318  \n",
       "std          146.120034  \n",
       "min            0.000000  \n",
       "25%           54.000000  \n",
       "50%          260.000000  \n",
       "75%          355.000000  \n",
       "max          365.000000  "
      ]
     },
     "execution_count": 45,
     "metadata": {},
     "output_type": "execute_result"
    }
   ],
   "source": [
    "df2.select_dtypes(['int64', 'float64']).describe()"
   ]
  },
  {
   "cell_type": "code",
   "execution_count": 46,
   "metadata": {},
   "outputs": [],
   "source": [
    "# Replace nulls in reviews_per_month with median\n",
    "df2['reviews_per_month'] = df2['reviews_per_month'].fillna(df2['reviews_per_month'].median()).astype(float)"
   ]
  },
  {
   "cell_type": "code",
   "execution_count": 47,
   "metadata": {},
   "outputs": [
    {
     "data": {
      "text/plain": [
       "neighbourhood_group               0\n",
       "neighbourhood                     0\n",
       "latitude                          0\n",
       "longitude                         0\n",
       "room_type                         0\n",
       "price                             0\n",
       "minimum_nights                    0\n",
       "number_of_reviews                 0\n",
       "reviews_per_month                 0\n",
       "calculated_host_listings_count    0\n",
       "availability_365                  0\n",
       "dtype: int64"
      ]
     },
     "execution_count": 47,
     "metadata": {},
     "output_type": "execute_result"
    }
   ],
   "source": [
    "df2.isnull().sum()"
   ]
  },
  {
   "cell_type": "markdown",
   "metadata": {},
   "source": [
    "### 2.2.2 Map categorical values into integers <a id = \"2.2.2\"></a>\n",
    "\n",
    "[Back to top](#top)"
   ]
  },
  {
   "cell_type": "markdown",
   "metadata": {},
   "source": [
    "### neighbourhood_group"
   ]
  },
  {
   "cell_type": "code",
   "execution_count": 48,
   "metadata": {},
   "outputs": [
    {
     "data": {
      "text/plain": [
       "Central Region       6309\n",
       "West Region           540\n",
       "East Region           508\n",
       "North-East Region     346\n",
       "North Region          204\n",
       "Name: neighbourhood_group, dtype: int64"
      ]
     },
     "execution_count": 48,
     "metadata": {},
     "output_type": "execute_result"
    }
   ],
   "source": [
    "# Check for rare values\n",
    "df2['neighbourhood_group'].value_counts()"
   ]
  },
  {
   "cell_type": "code",
   "execution_count": 49,
   "metadata": {},
   "outputs": [
    {
     "data": {
      "text/html": [
       "<div>\n",
       "<style scoped>\n",
       "    .dataframe tbody tr th:only-of-type {\n",
       "        vertical-align: middle;\n",
       "    }\n",
       "\n",
       "    .dataframe tbody tr th {\n",
       "        vertical-align: top;\n",
       "    }\n",
       "\n",
       "    .dataframe thead th {\n",
       "        text-align: right;\n",
       "    }\n",
       "</style>\n",
       "<table border=\"1\" class=\"dataframe\">\n",
       "  <thead>\n",
       "    <tr style=\"text-align: right;\">\n",
       "      <th></th>\n",
       "      <th>neighbourhood</th>\n",
       "      <th>latitude</th>\n",
       "      <th>longitude</th>\n",
       "      <th>room_type</th>\n",
       "      <th>price</th>\n",
       "      <th>minimum_nights</th>\n",
       "      <th>number_of_reviews</th>\n",
       "      <th>reviews_per_month</th>\n",
       "      <th>calculated_host_listings_count</th>\n",
       "      <th>availability_365</th>\n",
       "      <th>Central Region</th>\n",
       "      <th>East Region</th>\n",
       "      <th>North Region</th>\n",
       "      <th>North-East Region</th>\n",
       "      <th>West Region</th>\n",
       "    </tr>\n",
       "  </thead>\n",
       "  <tbody>\n",
       "    <tr>\n",
       "      <th>0</th>\n",
       "      <td>Woodlands</td>\n",
       "      <td>1.44255</td>\n",
       "      <td>103.79580</td>\n",
       "      <td>Private room</td>\n",
       "      <td>83</td>\n",
       "      <td>180</td>\n",
       "      <td>1</td>\n",
       "      <td>0.01</td>\n",
       "      <td>2</td>\n",
       "      <td>365</td>\n",
       "      <td>0.0</td>\n",
       "      <td>0.0</td>\n",
       "      <td>1.0</td>\n",
       "      <td>0.0</td>\n",
       "      <td>0.0</td>\n",
       "    </tr>\n",
       "    <tr>\n",
       "      <th>1</th>\n",
       "      <td>Bukit Timah</td>\n",
       "      <td>1.33235</td>\n",
       "      <td>103.78521</td>\n",
       "      <td>Private room</td>\n",
       "      <td>81</td>\n",
       "      <td>90</td>\n",
       "      <td>18</td>\n",
       "      <td>0.28</td>\n",
       "      <td>1</td>\n",
       "      <td>365</td>\n",
       "      <td>1.0</td>\n",
       "      <td>0.0</td>\n",
       "      <td>0.0</td>\n",
       "      <td>0.0</td>\n",
       "      <td>0.0</td>\n",
       "    </tr>\n",
       "    <tr>\n",
       "      <th>2</th>\n",
       "      <td>Woodlands</td>\n",
       "      <td>1.44246</td>\n",
       "      <td>103.79667</td>\n",
       "      <td>Private room</td>\n",
       "      <td>69</td>\n",
       "      <td>6</td>\n",
       "      <td>20</td>\n",
       "      <td>0.20</td>\n",
       "      <td>2</td>\n",
       "      <td>365</td>\n",
       "      <td>0.0</td>\n",
       "      <td>0.0</td>\n",
       "      <td>1.0</td>\n",
       "      <td>0.0</td>\n",
       "      <td>0.0</td>\n",
       "    </tr>\n",
       "    <tr>\n",
       "      <th>3</th>\n",
       "      <td>Tampines</td>\n",
       "      <td>1.34541</td>\n",
       "      <td>103.95712</td>\n",
       "      <td>Private room</td>\n",
       "      <td>206</td>\n",
       "      <td>1</td>\n",
       "      <td>14</td>\n",
       "      <td>0.15</td>\n",
       "      <td>9</td>\n",
       "      <td>353</td>\n",
       "      <td>0.0</td>\n",
       "      <td>1.0</td>\n",
       "      <td>0.0</td>\n",
       "      <td>0.0</td>\n",
       "      <td>0.0</td>\n",
       "    </tr>\n",
       "    <tr>\n",
       "      <th>4</th>\n",
       "      <td>Tampines</td>\n",
       "      <td>1.34567</td>\n",
       "      <td>103.95963</td>\n",
       "      <td>Private room</td>\n",
       "      <td>94</td>\n",
       "      <td>1</td>\n",
       "      <td>22</td>\n",
       "      <td>0.22</td>\n",
       "      <td>9</td>\n",
       "      <td>355</td>\n",
       "      <td>0.0</td>\n",
       "      <td>1.0</td>\n",
       "      <td>0.0</td>\n",
       "      <td>0.0</td>\n",
       "      <td>0.0</td>\n",
       "    </tr>\n",
       "  </tbody>\n",
       "</table>\n",
       "</div>"
      ],
      "text/plain": [
       "  neighbourhood  latitude  longitude     room_type  price  minimum_nights  \\\n",
       "0     Woodlands   1.44255  103.79580  Private room     83             180   \n",
       "1   Bukit Timah   1.33235  103.78521  Private room     81              90   \n",
       "2     Woodlands   1.44246  103.79667  Private room     69               6   \n",
       "3      Tampines   1.34541  103.95712  Private room    206               1   \n",
       "4      Tampines   1.34567  103.95963  Private room     94               1   \n",
       "\n",
       "   number_of_reviews  reviews_per_month  calculated_host_listings_count  \\\n",
       "0                  1               0.01                               2   \n",
       "1                 18               0.28                               1   \n",
       "2                 20               0.20                               2   \n",
       "3                 14               0.15                               9   \n",
       "4                 22               0.22                               9   \n",
       "\n",
       "   availability_365  Central Region  East Region  North Region  \\\n",
       "0               365             0.0          0.0           1.0   \n",
       "1               365             1.0          0.0           0.0   \n",
       "2               365             0.0          0.0           1.0   \n",
       "3               353             0.0          1.0           0.0   \n",
       "4               355             0.0          1.0           0.0   \n",
       "\n",
       "   North-East Region  West Region  \n",
       "0                0.0          0.0  \n",
       "1                0.0          0.0  \n",
       "2                0.0          0.0  \n",
       "3                0.0          0.0  \n",
       "4                0.0          0.0  "
      ]
     },
     "execution_count": 49,
     "metadata": {},
     "output_type": "execute_result"
    }
   ],
   "source": [
    "# Create encoder\n",
    "neighbourhood_enc = ohe()\n",
    "\n",
    "# Create variable to store fitted and transformed encoder\n",
    "temp = neighbourhood_enc.fit_transform(df2[['neighbourhood_group']]).toarray()\n",
    "\n",
    "# Get labels\n",
    "labels = neighbourhood_enc.categories_[0]\n",
    "\n",
    "# Create dataframe for 'neighbourhood_group'\n",
    "features = pd.DataFrame(temp, columns = labels)\n",
    "\n",
    "# Concatenate dataframe with df2\n",
    "df2_enc = pd.concat([df2, features], axis = 1)\n",
    "\n",
    "# Drop 'neighbourhood_group' column\n",
    "df2_enc = df2_enc.drop('neighbourhood_group', axis = 1)\n",
    "\n",
    "df2_enc.head()"
   ]
  },
  {
   "cell_type": "markdown",
   "metadata": {},
   "source": [
    "### neighbourhood"
   ]
  },
  {
   "cell_type": "code",
   "execution_count": 50,
   "metadata": {
    "scrolled": true
   },
   "outputs": [
    {
     "data": {
      "text/plain": [
       "Kallang                    1043\n",
       "Geylang                     994\n",
       "Novena                      537\n",
       "Rochor                      536\n",
       "Outram                      477\n",
       "Bukit Merah                 470\n",
       "Downtown Core               428\n",
       "Bedok                       373\n",
       "River Valley                362\n",
       "Queenstown                  266\n",
       "Tanglin                     210\n",
       "Singapore River             175\n",
       "Marine Parade               171\n",
       "Jurong West                 153\n",
       "Orchard                     136\n",
       "Newton                      134\n",
       "Bukit Timah                 131\n",
       "Jurong East                 118\n",
       "Hougang                     109\n",
       "Clementi                    102\n",
       "Toa Payoh                   101\n",
       "Pasir Ris                    71\n",
       "Serangoon                    69\n",
       "Sengkang                     67\n",
       "Woodlands                    67\n",
       "Bukit Batok                  65\n",
       "Tampines                     64\n",
       "Museum                       63\n",
       "Choa Chu Kang                63\n",
       "Ang Mo Kio                   58\n",
       "Bishan                       57\n",
       "Yishun                       53\n",
       "Punggol                      43\n",
       "Sembawang                    41\n",
       "Bukit Panjang                34\n",
       "Central Water Catchment      34\n",
       "Southern Islands             17\n",
       "Sungei Kadut                  5\n",
       "Western Water Catchment       4\n",
       "Mandai                        3\n",
       "Tuas                          1\n",
       "Marina South                  1\n",
       "Lim Chu Kang                  1\n",
       "Name: neighbourhood, dtype: int64"
      ]
     },
     "execution_count": 50,
     "metadata": {},
     "output_type": "execute_result"
    }
   ],
   "source": [
    "# Check for rare values\n",
    "df2_enc['neighbourhood'].value_counts()"
   ]
  },
  {
   "cell_type": "code",
   "execution_count": 51,
   "metadata": {
    "scrolled": true
   },
   "outputs": [
    {
     "data": {
      "text/plain": [
       "Kallang            1043\n",
       "Geylang             994\n",
       "rare                881\n",
       "Novena              537\n",
       "Rochor              536\n",
       "Outram              477\n",
       "Bukit Merah         470\n",
       "Downtown Core       428\n",
       "Bedok               373\n",
       "River Valley        362\n",
       "Queenstown          266\n",
       "Tanglin             210\n",
       "Singapore River     175\n",
       "Marine Parade       171\n",
       "Jurong West         153\n",
       "Orchard             136\n",
       "Newton              134\n",
       "Bukit Timah         131\n",
       "Jurong East         118\n",
       "Hougang             109\n",
       "Clementi            102\n",
       "Toa Payoh           101\n",
       "Name: neighbourhood, dtype: int64"
      ]
     },
     "execution_count": 51,
     "metadata": {},
     "output_type": "execute_result"
    }
   ],
   "source": [
    "# Replace values with <100 count\n",
    "# Pasir Ris, Serangoon, Sengkang, Woodlands, Bukit Batok, Tampines, Museum, Choa Chu Kang, Ang Mo Kio, Bishan, \n",
    "# Yishun, Punggol, Sembawang, Bukit Panjang, Central Water Catchment, Southern Islands, Sungei Kadut,\n",
    "# Western Water Catchment, Mandai, Tuas, Marina South, and Lim Chu Kang with rare\n",
    "df2_enc['neighbourhood'] = df2_enc['neighbourhood'].replace(['Pasir Ris', 'Serangoon', 'Sengkang', 'Woodlands', 'Bukit Batok', \n",
    "                                                     'Tampines', 'Museum', 'Choa Chu Kang', 'Ang Mo Kio', 'Bishan', \n",
    "                                                     'Yishun', 'Punggol', 'Sembawang', 'Bukit Panjang', \n",
    "                                                     'Central Water Catchment', 'Southern Islands', 'Sungei Kadut', \n",
    "                                                     'Western Water Catchment', 'Mandai', 'Tuas', 'Marina South', \n",
    "                                                     'Lim Chu Kang'], \n",
    "                                                    'rare')\n",
    "df2_enc['neighbourhood'].value_counts()"
   ]
  },
  {
   "cell_type": "code",
   "execution_count": 52,
   "metadata": {
    "scrolled": true
   },
   "outputs": [
    {
     "data": {
      "text/plain": [
       "0     1043\n",
       "1      994\n",
       "21     881\n",
       "2      537\n",
       "3      536\n",
       "4      477\n",
       "5      470\n",
       "6      428\n",
       "7      373\n",
       "8      362\n",
       "9      266\n",
       "10     210\n",
       "11     175\n",
       "12     171\n",
       "13     153\n",
       "14     136\n",
       "15     134\n",
       "16     131\n",
       "17     118\n",
       "18     109\n",
       "19     102\n",
       "20     101\n",
       "Name: neighbourhood, dtype: int64"
      ]
     },
     "execution_count": 52,
     "metadata": {},
     "output_type": "execute_result"
    }
   ],
   "source": [
    "# Map values to integers\n",
    "df2_enc['neighbourhood'] = df2_enc['neighbourhood'].map({'Kallang': 0, 'Geylang': 1, 'Novena': 2, 'Rochor': 3, \n",
    "                                                         'Outram': 4, 'Bukit Merah': 5, 'Downtown Core': 6, 'Bedok': 7, \n",
    "                                                         'River Valley': 8, 'Queenstown': 9, 'Tanglin': 10, \n",
    "                                                         'Singapore River': 11, 'Marine Parade': 12, 'Jurong West': 13, \n",
    "                                                         'Orchard': 14, 'Newton': 15, 'Bukit Timah': 16, 'Jurong East': 17, \n",
    "                                                         'Hougang': 18, 'Clementi': 19, 'Toa Payoh': 20, 'rare': 21}\n",
    "                                                       ).astype(int)\n",
    "df2_enc['neighbourhood'].value_counts()"
   ]
  },
  {
   "cell_type": "markdown",
   "metadata": {},
   "source": [
    "### room_type"
   ]
  },
  {
   "cell_type": "code",
   "execution_count": 53,
   "metadata": {},
   "outputs": [
    {
     "data": {
      "text/plain": [
       "Entire home/apt    4132\n",
       "Private room       3381\n",
       "Shared room         394\n",
       "Name: room_type, dtype: int64"
      ]
     },
     "execution_count": 53,
     "metadata": {},
     "output_type": "execute_result"
    }
   ],
   "source": [
    "# Check for rare values\n",
    "df2_enc['room_type'].value_counts()"
   ]
  },
  {
   "cell_type": "code",
   "execution_count": 54,
   "metadata": {},
   "outputs": [
    {
     "data": {
      "text/html": [
       "<div>\n",
       "<style scoped>\n",
       "    .dataframe tbody tr th:only-of-type {\n",
       "        vertical-align: middle;\n",
       "    }\n",
       "\n",
       "    .dataframe tbody tr th {\n",
       "        vertical-align: top;\n",
       "    }\n",
       "\n",
       "    .dataframe thead th {\n",
       "        text-align: right;\n",
       "    }\n",
       "</style>\n",
       "<table border=\"1\" class=\"dataframe\">\n",
       "  <thead>\n",
       "    <tr style=\"text-align: right;\">\n",
       "      <th></th>\n",
       "      <th>neighbourhood</th>\n",
       "      <th>latitude</th>\n",
       "      <th>longitude</th>\n",
       "      <th>price</th>\n",
       "      <th>minimum_nights</th>\n",
       "      <th>number_of_reviews</th>\n",
       "      <th>reviews_per_month</th>\n",
       "      <th>calculated_host_listings_count</th>\n",
       "      <th>availability_365</th>\n",
       "      <th>Central Region</th>\n",
       "      <th>East Region</th>\n",
       "      <th>North Region</th>\n",
       "      <th>North-East Region</th>\n",
       "      <th>West Region</th>\n",
       "      <th>Entire home/apt</th>\n",
       "      <th>Private room</th>\n",
       "      <th>Shared room</th>\n",
       "    </tr>\n",
       "  </thead>\n",
       "  <tbody>\n",
       "    <tr>\n",
       "      <th>0</th>\n",
       "      <td>21</td>\n",
       "      <td>1.44255</td>\n",
       "      <td>103.79580</td>\n",
       "      <td>83</td>\n",
       "      <td>180</td>\n",
       "      <td>1</td>\n",
       "      <td>0.01</td>\n",
       "      <td>2</td>\n",
       "      <td>365</td>\n",
       "      <td>0.0</td>\n",
       "      <td>0.0</td>\n",
       "      <td>1.0</td>\n",
       "      <td>0.0</td>\n",
       "      <td>0.0</td>\n",
       "      <td>0.0</td>\n",
       "      <td>1.0</td>\n",
       "      <td>0.0</td>\n",
       "    </tr>\n",
       "    <tr>\n",
       "      <th>1</th>\n",
       "      <td>16</td>\n",
       "      <td>1.33235</td>\n",
       "      <td>103.78521</td>\n",
       "      <td>81</td>\n",
       "      <td>90</td>\n",
       "      <td>18</td>\n",
       "      <td>0.28</td>\n",
       "      <td>1</td>\n",
       "      <td>365</td>\n",
       "      <td>1.0</td>\n",
       "      <td>0.0</td>\n",
       "      <td>0.0</td>\n",
       "      <td>0.0</td>\n",
       "      <td>0.0</td>\n",
       "      <td>0.0</td>\n",
       "      <td>1.0</td>\n",
       "      <td>0.0</td>\n",
       "    </tr>\n",
       "    <tr>\n",
       "      <th>2</th>\n",
       "      <td>21</td>\n",
       "      <td>1.44246</td>\n",
       "      <td>103.79667</td>\n",
       "      <td>69</td>\n",
       "      <td>6</td>\n",
       "      <td>20</td>\n",
       "      <td>0.20</td>\n",
       "      <td>2</td>\n",
       "      <td>365</td>\n",
       "      <td>0.0</td>\n",
       "      <td>0.0</td>\n",
       "      <td>1.0</td>\n",
       "      <td>0.0</td>\n",
       "      <td>0.0</td>\n",
       "      <td>0.0</td>\n",
       "      <td>1.0</td>\n",
       "      <td>0.0</td>\n",
       "    </tr>\n",
       "    <tr>\n",
       "      <th>3</th>\n",
       "      <td>21</td>\n",
       "      <td>1.34541</td>\n",
       "      <td>103.95712</td>\n",
       "      <td>206</td>\n",
       "      <td>1</td>\n",
       "      <td>14</td>\n",
       "      <td>0.15</td>\n",
       "      <td>9</td>\n",
       "      <td>353</td>\n",
       "      <td>0.0</td>\n",
       "      <td>1.0</td>\n",
       "      <td>0.0</td>\n",
       "      <td>0.0</td>\n",
       "      <td>0.0</td>\n",
       "      <td>0.0</td>\n",
       "      <td>1.0</td>\n",
       "      <td>0.0</td>\n",
       "    </tr>\n",
       "    <tr>\n",
       "      <th>4</th>\n",
       "      <td>21</td>\n",
       "      <td>1.34567</td>\n",
       "      <td>103.95963</td>\n",
       "      <td>94</td>\n",
       "      <td>1</td>\n",
       "      <td>22</td>\n",
       "      <td>0.22</td>\n",
       "      <td>9</td>\n",
       "      <td>355</td>\n",
       "      <td>0.0</td>\n",
       "      <td>1.0</td>\n",
       "      <td>0.0</td>\n",
       "      <td>0.0</td>\n",
       "      <td>0.0</td>\n",
       "      <td>0.0</td>\n",
       "      <td>1.0</td>\n",
       "      <td>0.0</td>\n",
       "    </tr>\n",
       "  </tbody>\n",
       "</table>\n",
       "</div>"
      ],
      "text/plain": [
       "   neighbourhood  latitude  longitude  price  minimum_nights  \\\n",
       "0             21   1.44255  103.79580     83             180   \n",
       "1             16   1.33235  103.78521     81              90   \n",
       "2             21   1.44246  103.79667     69               6   \n",
       "3             21   1.34541  103.95712    206               1   \n",
       "4             21   1.34567  103.95963     94               1   \n",
       "\n",
       "   number_of_reviews  reviews_per_month  calculated_host_listings_count  \\\n",
       "0                  1               0.01                               2   \n",
       "1                 18               0.28                               1   \n",
       "2                 20               0.20                               2   \n",
       "3                 14               0.15                               9   \n",
       "4                 22               0.22                               9   \n",
       "\n",
       "   availability_365  Central Region  East Region  North Region  \\\n",
       "0               365             0.0          0.0           1.0   \n",
       "1               365             1.0          0.0           0.0   \n",
       "2               365             0.0          0.0           1.0   \n",
       "3               353             0.0          1.0           0.0   \n",
       "4               355             0.0          1.0           0.0   \n",
       "\n",
       "   North-East Region  West Region  Entire home/apt  Private room  Shared room  \n",
       "0                0.0          0.0              0.0           1.0          0.0  \n",
       "1                0.0          0.0              0.0           1.0          0.0  \n",
       "2                0.0          0.0              0.0           1.0          0.0  \n",
       "3                0.0          0.0              0.0           1.0          0.0  \n",
       "4                0.0          0.0              0.0           1.0          0.0  "
      ]
     },
     "execution_count": 54,
     "metadata": {},
     "output_type": "execute_result"
    }
   ],
   "source": [
    "# Create encoder\n",
    "room_enc = ohe()\n",
    "\n",
    "# Create variable to store fitted and transformed encoder\n",
    "temp = room_enc.fit_transform(df2_enc[['room_type']]).toarray()\n",
    "\n",
    "# Get labels\n",
    "labels = room_enc.categories_[0]\n",
    "\n",
    "# Create dataframe for 'room_type'\n",
    "features = pd.DataFrame(temp, columns = labels)\n",
    "\n",
    "# Concatenate dataframe with df2_enc\n",
    "df2_enc = pd.concat([df2_enc, features], axis = 1)\n",
    "\n",
    "# Drop 'room_type' column\n",
    "df2_enc = df2_enc.drop('room_type', axis = 1)\n",
    "\n",
    "df2_enc.head()"
   ]
  },
  {
   "cell_type": "markdown",
   "metadata": {},
   "source": [
    "### 2.2.3 Train-test Split <a id = \"2.2.3\"></a>\n",
    "\n",
    "[Back to top](#top)"
   ]
  },
  {
   "cell_type": "code",
   "execution_count": 55,
   "metadata": {},
   "outputs": [
    {
     "data": {
      "text/plain": [
       "((5534, 16), (2373, 16))"
      ]
     },
     "execution_count": 55,
     "metadata": {},
     "output_type": "execute_result"
    }
   ],
   "source": [
    "# Split both Inputs (X) and Ouput (y) into training set (70%) and testing set (30%)\n",
    "X_train, X_test, y_train, y_test = train_test_split(df2_enc.drop(['price'], axis = 1), \n",
    "                                                    df2_enc['price'], \n",
    "                                                    test_size = 0.3, \n",
    "                                                    random_state = 10)\n",
    "X_train.shape, X_test.shape"
   ]
  },
  {
   "cell_type": "markdown",
   "metadata": {},
   "source": [
    "### 2.2.4 Check for outliers <a id = \"2.2.4\"></a>\n",
    "\n",
    "[Back to top](#top)"
   ]
  },
  {
   "cell_type": "markdown",
   "metadata": {},
   "source": [
    "### 2.2.4.1 Before Transformation <a id = \"2.2.4.1\"></a>\n",
    "\n",
    "[Back to top](#top)"
   ]
  },
  {
   "cell_type": "code",
   "execution_count": 56,
   "metadata": {
    "scrolled": true
   },
   "outputs": [
    {
     "data": {
      "image/png": "[encoded data removed]",
      "text/plain": [
       "<Figure size 1008x288 with 2 Axes>"
      ]
     },
     "metadata": {
      "needs_background": "light"
     },
     "output_type": "display_data"
    },
    {
     "data": {
      "image/png": "[encoded data removed]",
      "text/plain": [
       "<Figure size 1008x288 with 2 Axes>"
      ]
     },
     "metadata": {
      "needs_background": "light"
     },
     "output_type": "display_data"
    },
    {
     "data": {
      "image/png": "[encoded data removed]",
      "text/plain": [
       "<Figure size 1008x288 with 2 Axes>"
      ]
     },
     "metadata": {
      "needs_background": "light"
     },
     "output_type": "display_data"
    },
    {
     "data": {
      "image/png": "[encoded data removed]",
      "text/plain": [
       "<Figure size 1008x288 with 2 Axes>"
      ]
     },
     "metadata": {
      "needs_background": "light"
     },
     "output_type": "display_data"
    },
    {
     "data": {
      "image/png": "[encoded data removed]",
      "text/plain": [
       "<Figure size 1008x288 with 2 Axes>"
      ]
     },
     "metadata": {
      "needs_background": "light"
     },
     "output_type": "display_data"
    }
   ],
   "source": [
    "# Create a list to store columns with continuous values\n",
    "col = ['minimum_nights', 'number_of_reviews', 'reviews_per_month', 'calculated_host_listings_count', 'availability_365']\n",
    "\n",
    "# Plot values\n",
    "for c in col:\n",
    "    boxplot_kdeplot(X_train, c)"
   ]
  },
  {
   "cell_type": "markdown",
   "metadata": {},
   "source": [
    "### 2.2.4.2 After Transformation <a id = \"2.2.4.2\"></a>\n",
    "\n",
    "[Back to top](#top)"
   ]
  },
  {
   "cell_type": "code",
   "execution_count": 57,
   "metadata": {},
   "outputs": [],
   "source": [
    "# Create list to store column names\n",
    "col = ['minimum_nights', 'number_of_reviews', 'reviews_per_month', 'calculated_host_listings_count']\n",
    "\n",
    "# initialize the transformer with a subset of variables to transform\n",
    "yjt = YeoJohnsonTransformer(variables = col)\n",
    "\n",
    "# fit transformer to the dataframe\n",
    "yjt.fit(X_train)\n",
    "\n",
    "# transform indicated variables\n",
    "X_train_tf = yjt.transform(X_train)"
   ]
  },
  {
   "cell_type": "code",
   "execution_count": 58,
   "metadata": {
    "scrolled": true
   },
   "outputs": [
    {
     "data": {
      "image/png": "[encoded data removed]",
      "text/plain": [
       "<Figure size 1008x288 with 2 Axes>"
      ]
     },
     "metadata": {
      "needs_background": "light"
     },
     "output_type": "display_data"
    },
    {
     "data": {
      "image/png": "[encoded data removed]",
      "text/plain": [
       "<Figure size 1008x288 with 2 Axes>"
      ]
     },
     "metadata": {
      "needs_background": "light"
     },
     "output_type": "display_data"
    },
    {
     "data": {
      "image/png": "[encoded data removed]",
      "text/plain": [
       "<Figure size 1008x288 with 2 Axes>"
      ]
     },
     "metadata": {
      "needs_background": "light"
     },
     "output_type": "display_data"
    },
    {
     "data": {
      "image/png": "[encoded data removed]",
      "text/plain": [
       "<Figure size 1008x288 with 2 Axes>"
      ]
     },
     "metadata": {
      "needs_background": "light"
     },
     "output_type": "display_data"
    }
   ],
   "source": [
    "for c in col:\n",
    "    boxplot_kdeplot(X_train_tf, c)"
   ]
  },
  {
   "cell_type": "markdown",
   "metadata": {},
   "source": [
    "### 2.2.5 Standardise data <a id = \"2.2.5\"></a>\n",
    "\n",
    "[Back to top](#top)"
   ]
  },
  {
   "cell_type": "code",
   "execution_count": 59,
   "metadata": {
    "scrolled": true
   },
   "outputs": [
    {
     "data": {
      "image/png": "[encoded data removed]",
      "text/plain": [
       "<Figure size 648x432 with 1 Axes>"
      ]
     },
     "metadata": {
      "needs_background": "light"
     },
     "output_type": "display_data"
    }
   ],
   "source": [
    "# Use the same plotting tool as part 1\n",
    "PlotScale(X_train_tf)"
   ]
  },
  {
   "cell_type": "code",
   "execution_count": 60,
   "metadata": {
    "scrolled": true
   },
   "outputs": [
    {
     "data": {
      "image/png": "[encoded data removed]",
      "text/plain": [
       "<Figure size 648x432 with 1 Axes>"
      ]
     },
     "metadata": {
      "needs_background": "light"
     },
     "output_type": "display_data"
    }
   ],
   "source": [
    "X_train_scaled = (X_train_tf - X_train_tf.mean()) / (X_train_tf.max() - X_train_tf.min())\n",
    "PlotScale(X_train_scaled)"
   ]
  },
  {
   "cell_type": "markdown",
   "metadata": {},
   "source": [
    "## 2.3 Correlation Analysis <a id = \"2.3\"></a>\n",
    "\n",
    "[Back to top](#top)"
   ]
  },
  {
   "cell_type": "code",
   "execution_count": 61,
   "metadata": {
    "scrolled": true
   },
   "outputs": [
    {
     "data": {
      "text/html": [
       "<table class=\"simpletable\">\n",
       "<caption>OLS Regression Results</caption>\n",
       "<tr>\n",
       "  <th>Dep. Variable:</th>          <td>price</td>      <th>  R-squared (uncentered):</th>      <td>   0.046</td> \n",
       "</tr>\n",
       "<tr>\n",
       "  <th>Model:</th>                   <td>OLS</td>       <th>  Adj. R-squared (uncentered):</th> <td>   0.044</td> \n",
       "</tr>\n",
       "<tr>\n",
       "  <th>Method:</th>             <td>Least Squares</td>  <th>  F-statistic:       </th>          <td>   19.04</td> \n",
       "</tr>\n",
       "<tr>\n",
       "  <th>Date:</th>             <td>Fri, 16 Dec 2022</td> <th>  Prob (F-statistic):</th>          <td>1.80e-47</td> \n",
       "</tr>\n",
       "<tr>\n",
       "  <th>Time:</th>                 <td>13:04:06</td>     <th>  Log-Likelihood:    </th>          <td> -40502.</td> \n",
       "</tr>\n",
       "<tr>\n",
       "  <th>No. Observations:</th>      <td>  5534</td>      <th>  AIC:               </th>          <td>8.103e+04</td>\n",
       "</tr>\n",
       "<tr>\n",
       "  <th>Df Residuals:</th>          <td>  5520</td>      <th>  BIC:               </th>          <td>8.113e+04</td>\n",
       "</tr>\n",
       "<tr>\n",
       "  <th>Df Model:</th>              <td>    14</td>      <th>                     </th>              <td> </td>    \n",
       "</tr>\n",
       "<tr>\n",
       "  <th>Covariance Type:</th>      <td>nonrobust</td>    <th>                     </th>              <td> </td>    \n",
       "</tr>\n",
       "</table>\n",
       "<table class=\"simpletable\">\n",
       "<tr>\n",
       "                 <td></td>                   <th>coef</th>     <th>std err</th>      <th>t</th>      <th>P>|t|</th>  <th>[0.025</th>    <th>0.975]</th>  \n",
       "</tr>\n",
       "<tr>\n",
       "  <th>neighbourhood</th>                  <td>   54.7142</td> <td>   22.208</td> <td>    2.464</td> <td> 0.014</td> <td>   11.177</td> <td>   98.251</td>\n",
       "</tr>\n",
       "<tr>\n",
       "  <th>latitude</th>                       <td> -230.4677</td> <td>   60.484</td> <td>   -3.810</td> <td> 0.000</td> <td> -349.041</td> <td> -111.894</td>\n",
       "</tr>\n",
       "<tr>\n",
       "  <th>longitude</th>                      <td>  -72.2515</td> <td>   73.055</td> <td>   -0.989</td> <td> 0.323</td> <td> -215.469</td> <td>   70.966</td>\n",
       "</tr>\n",
       "<tr>\n",
       "  <th>minimum_nights</th>                 <td>  -91.7091</td> <td>   17.174</td> <td>   -5.340</td> <td> 0.000</td> <td> -125.376</td> <td>  -58.042</td>\n",
       "</tr>\n",
       "<tr>\n",
       "  <th>number_of_reviews</th>              <td>  -93.9382</td> <td>   16.619</td> <td>   -5.652</td> <td> 0.000</td> <td> -126.519</td> <td>  -61.358</td>\n",
       "</tr>\n",
       "<tr>\n",
       "  <th>reviews_per_month</th>              <td>    3.1997</td> <td>   23.772</td> <td>    0.135</td> <td> 0.893</td> <td>  -43.402</td> <td>   49.802</td>\n",
       "</tr>\n",
       "<tr>\n",
       "  <th>calculated_host_listings_count</th> <td>  -86.8990</td> <td>   18.987</td> <td>   -4.577</td> <td> 0.000</td> <td> -124.121</td> <td>  -49.676</td>\n",
       "</tr>\n",
       "<tr>\n",
       "  <th>availability_365</th>               <td>   60.1617</td> <td>   14.209</td> <td>    4.234</td> <td> 0.000</td> <td>   32.307</td> <td>   88.016</td>\n",
       "</tr>\n",
       "<tr>\n",
       "  <th>Central Region</th>                 <td>   -1.9229</td> <td>   19.687</td> <td>   -0.098</td> <td> 0.922</td> <td>  -40.517</td> <td>   36.671</td>\n",
       "</tr>\n",
       "<tr>\n",
       "  <th>East Region</th>                    <td>   19.6911</td> <td>   27.989</td> <td>    0.704</td> <td> 0.482</td> <td>  -35.178</td> <td>   74.560</td>\n",
       "</tr>\n",
       "<tr>\n",
       "  <th>North Region</th>                   <td>   10.2392</td> <td>   33.137</td> <td>    0.309</td> <td> 0.757</td> <td>  -54.723</td> <td>   75.201</td>\n",
       "</tr>\n",
       "<tr>\n",
       "  <th>North-East Region</th>              <td>  -16.1553</td> <td>   23.331</td> <td>   -0.692</td> <td> 0.489</td> <td>  -61.893</td> <td>   29.583</td>\n",
       "</tr>\n",
       "<tr>\n",
       "  <th>West Region</th>                    <td>  -11.8520</td> <td>   27.497</td> <td>   -0.431</td> <td> 0.666</td> <td>  -65.758</td> <td>   42.054</td>\n",
       "</tr>\n",
       "<tr>\n",
       "  <th>Entire home/apt</th>                <td>  116.7478</td> <td>    9.593</td> <td>   12.171</td> <td> 0.000</td> <td>   97.943</td> <td>  135.553</td>\n",
       "</tr>\n",
       "<tr>\n",
       "  <th>Private room</th>                   <td>  -20.2995</td> <td>    9.441</td> <td>   -2.150</td> <td> 0.032</td> <td>  -38.808</td> <td>   -1.791</td>\n",
       "</tr>\n",
       "<tr>\n",
       "  <th>Shared room</th>                    <td>  -96.4483</td> <td>   15.247</td> <td>   -6.326</td> <td> 0.000</td> <td> -126.338</td> <td>  -66.559</td>\n",
       "</tr>\n",
       "</table>\n",
       "<table class=\"simpletable\">\n",
       "<tr>\n",
       "  <th>Omnibus:</th>       <td>12153.984</td> <th>  Durbin-Watson:     </th>   <td>   1.548</td>  \n",
       "</tr>\n",
       "<tr>\n",
       "  <th>Prob(Omnibus):</th>  <td> 0.000</td>   <th>  Jarque-Bera (JB):  </th> <td>58250399.892</td>\n",
       "</tr>\n",
       "<tr>\n",
       "  <th>Skew:</th>           <td>20.037</td>   <th>  Prob(JB):          </th>   <td>    0.00</td>  \n",
       "</tr>\n",
       "<tr>\n",
       "  <th>Kurtosis:</th>       <td>504.015</td>  <th>  Cond. No.          </th>   <td>1.52e+16</td>  \n",
       "</tr>\n",
       "</table><br/><br/>Notes:<br/>[1] R² is computed without centering (uncentered) since the model does not contain a constant.<br/>[2] Standard Errors assume that the covariance matrix of the errors is correctly specified.<br/>[3] The smallest eigenvalue is 1.33e-29. This might indicate that there are<br/>strong multicollinearity problems or that the design matrix is singular."
      ],
      "text/plain": [
       "<class 'statsmodels.iolib.summary.Summary'>\n",
       "\"\"\"\n",
       "                                 OLS Regression Results                                \n",
       "=======================================================================================\n",
       "Dep. Variable:                  price   R-squared (uncentered):                   0.046\n",
       "Model:                            OLS   Adj. R-squared (uncentered):              0.044\n",
       "Method:                 Least Squares   F-statistic:                              19.04\n",
       "Date:                Fri, 16 Dec 2022   Prob (F-statistic):                    1.80e-47\n",
       "Time:                        13:04:06   Log-Likelihood:                         -40502.\n",
       "No. Observations:                5534   AIC:                                  8.103e+04\n",
       "Df Residuals:                    5520   BIC:                                  8.113e+04\n",
       "Df Model:                          14                                                  \n",
       "Covariance Type:            nonrobust                                                  \n",
       "==================================================================================================\n",
       "                                     coef    std err          t      P>|t|      [0.025      0.975]\n",
       "--------------------------------------------------------------------------------------------------\n",
       "neighbourhood                     54.7142     22.208      2.464      0.014      11.177      98.251\n",
       "latitude                        -230.4677     60.484     -3.810      0.000    -349.041    -111.894\n",
       "longitude                        -72.2515     73.055     -0.989      0.323    -215.469      70.966\n",
       "minimum_nights                   -91.7091     17.174     -5.340      0.000    -125.376     -58.042\n",
       "number_of_reviews                -93.9382     16.619     -5.652      0.000    -126.519     -61.358\n",
       "reviews_per_month                  3.1997     23.772      0.135      0.893     -43.402      49.802\n",
       "calculated_host_listings_count   -86.8990     18.987     -4.577      0.000    -124.121     -49.676\n",
       "availability_365                  60.1617     14.209      4.234      0.000      32.307      88.016\n",
       "Central Region                    -1.9229     19.687     -0.098      0.922     -40.517      36.671\n",
       "East Region                       19.6911     27.989      0.704      0.482     -35.178      74.560\n",
       "North Region                      10.2392     33.137      0.309      0.757     -54.723      75.201\n",
       "North-East Region                -16.1553     23.331     -0.692      0.489     -61.893      29.583\n",
       "West Region                      -11.8520     27.497     -0.431      0.666     -65.758      42.054\n",
       "Entire home/apt                  116.7478      9.593     12.171      0.000      97.943     135.553\n",
       "Private room                     -20.2995      9.441     -2.150      0.032     -38.808      -1.791\n",
       "Shared room                      -96.4483     15.247     -6.326      0.000    -126.338     -66.559\n",
       "==============================================================================\n",
       "Omnibus:                    12153.984   Durbin-Watson:                   1.548\n",
       "Prob(Omnibus):                  0.000   Jarque-Bera (JB):         58250399.892\n",
       "Skew:                          20.037   Prob(JB):                         0.00\n",
       "Kurtosis:                     504.015   Cond. No.                     1.52e+16\n",
       "==============================================================================\n",
       "\n",
       "Notes:\n",
       "[1] R² is computed without centering (uncentered) since the model does not contain a constant.\n",
       "[2] Standard Errors assume that the covariance matrix of the errors is correctly specified.\n",
       "[3] The smallest eigenvalue is 1.33e-29. This might indicate that there are\n",
       "strong multicollinearity problems or that the design matrix is singular.\n",
       "\"\"\""
      ]
     },
     "execution_count": 61,
     "metadata": {},
     "output_type": "execute_result"
    }
   ],
   "source": [
    "# Create a model using statsmodel.api: the Ordinary Least Squares (OLS) method and fit function\n",
    "ols = sm.OLS(y_train, X_train_scaled).fit()\n",
    "\n",
    "# Summary statistics from the model\n",
    "ols.summary()"
   ]
  },
  {
   "cell_type": "code",
   "execution_count": 62,
   "metadata": {},
   "outputs": [],
   "source": [
    "# Remove columns with P>|t| values more than 0.05\n",
    "# longitude, reviews_per_month, Central Region, East Region, North Region, North-East Region, West Region\n",
    "df2_final = df2_enc.drop(['longitude', 'reviews_per_month', \"Central Region\", \"East Region\", \n",
    "                          \"North Region\", \"North-East Region\", 'West Region'], \n",
    "                         axis = 1)"
   ]
  },
  {
   "cell_type": "code",
   "execution_count": 63,
   "metadata": {},
   "outputs": [
    {
     "data": {
      "text/plain": [
       "((5534, 9), (2373, 9))"
      ]
     },
     "execution_count": 63,
     "metadata": {},
     "output_type": "execute_result"
    }
   ],
   "source": [
    "# Split both Inputs (X) and Ouput (y) into training set (70%) and testing set (30%)\n",
    "X_train, X_test, y_train, y_test = train_test_split(df2_final.drop(['price'], axis = 1), \n",
    "                                                    df2_final['price'], \n",
    "                                                    test_size = 0.3, \n",
    "                                                    random_state = 10)\n",
    "X_train.shape, X_test.shape"
   ]
  },
  {
   "cell_type": "code",
   "execution_count": 64,
   "metadata": {},
   "outputs": [],
   "source": [
    "# Create list to store column names\n",
    "col = ['minimum_nights', 'number_of_reviews', 'calculated_host_listings_count']\n",
    "\n",
    "# initialize the transformer with a subset of variables to transform\n",
    "yjt = YeoJohnsonTransformer(variables = col)\n",
    "\n",
    "# fit transformer to the dataframe\n",
    "yjt.fit(X_train)\n",
    "\n",
    "# transform indicated variables\n",
    "X_train_tf = yjt.transform(X_train)"
   ]
  },
  {
   "cell_type": "code",
   "execution_count": 65,
   "metadata": {},
   "outputs": [],
   "source": [
    "X_train_scaled = (X_train_tf - X_train_tf.mean()) / (X_train_tf.max() - X_train_tf.min())"
   ]
  },
  {
   "cell_type": "code",
   "execution_count": 66,
   "metadata": {
    "scrolled": true
   },
   "outputs": [
    {
     "data": {
      "text/html": [
       "<table class=\"simpletable\">\n",
       "<caption>OLS Regression Results</caption>\n",
       "<tr>\n",
       "  <th>Dep. Variable:</th>          <td>price</td>      <th>  R-squared (uncentered):</th>      <td>   0.046</td> \n",
       "</tr>\n",
       "<tr>\n",
       "  <th>Model:</th>                   <td>OLS</td>       <th>  Adj. R-squared (uncentered):</th> <td>   0.044</td> \n",
       "</tr>\n",
       "<tr>\n",
       "  <th>Method:</th>             <td>Least Squares</td>  <th>  F-statistic:       </th>          <td>   33.00</td> \n",
       "</tr>\n",
       "<tr>\n",
       "  <th>Date:</th>             <td>Fri, 16 Dec 2022</td> <th>  Prob (F-statistic):</th>          <td>3.42e-51</td> \n",
       "</tr>\n",
       "<tr>\n",
       "  <th>Time:</th>                 <td>13:04:06</td>     <th>  Log-Likelihood:    </th>          <td> -40504.</td> \n",
       "</tr>\n",
       "<tr>\n",
       "  <th>No. Observations:</th>      <td>  5534</td>      <th>  AIC:               </th>          <td>8.102e+04</td>\n",
       "</tr>\n",
       "<tr>\n",
       "  <th>Df Residuals:</th>          <td>  5526</td>      <th>  BIC:               </th>          <td>8.108e+04</td>\n",
       "</tr>\n",
       "<tr>\n",
       "  <th>Df Model:</th>              <td>     8</td>      <th>                     </th>              <td> </td>    \n",
       "</tr>\n",
       "<tr>\n",
       "  <th>Covariance Type:</th>      <td>nonrobust</td>    <th>                     </th>              <td> </td>    \n",
       "</tr>\n",
       "</table>\n",
       "<table class=\"simpletable\">\n",
       "<tr>\n",
       "                 <td></td>                   <th>coef</th>     <th>std err</th>      <th>t</th>      <th>P>|t|</th>  <th>[0.025</th>    <th>0.975]</th>  \n",
       "</tr>\n",
       "<tr>\n",
       "  <th>neighbourhood</th>                  <td>   63.1123</td> <td>   18.420</td> <td>    3.426</td> <td> 0.001</td> <td>   27.002</td> <td>   99.223</td>\n",
       "</tr>\n",
       "<tr>\n",
       "  <th>latitude</th>                       <td> -239.9167</td> <td>   41.028</td> <td>   -5.848</td> <td> 0.000</td> <td> -320.348</td> <td> -159.486</td>\n",
       "</tr>\n",
       "<tr>\n",
       "  <th>minimum_nights</th>                 <td>  -91.3247</td> <td>   16.962</td> <td>   -5.384</td> <td> 0.000</td> <td> -124.578</td> <td>  -58.072</td>\n",
       "</tr>\n",
       "<tr>\n",
       "  <th>number_of_reviews</th>              <td>  -94.9477</td> <td>   15.550</td> <td>   -6.106</td> <td> 0.000</td> <td> -125.431</td> <td>  -64.465</td>\n",
       "</tr>\n",
       "<tr>\n",
       "  <th>calculated_host_listings_count</th> <td>  -88.0255</td> <td>   18.825</td> <td>   -4.676</td> <td> 0.000</td> <td> -124.931</td> <td>  -51.120</td>\n",
       "</tr>\n",
       "<tr>\n",
       "  <th>availability_365</th>               <td>   61.6225</td> <td>   14.151</td> <td>    4.355</td> <td> 0.000</td> <td>   33.881</td> <td>   89.364</td>\n",
       "</tr>\n",
       "<tr>\n",
       "  <th>Entire home/apt</th>                <td>  116.5176</td> <td>    9.500</td> <td>   12.264</td> <td> 0.000</td> <td>   97.893</td> <td>  135.142</td>\n",
       "</tr>\n",
       "<tr>\n",
       "  <th>Private room</th>                   <td>  -20.1266</td> <td>    9.376</td> <td>   -2.147</td> <td> 0.032</td> <td>  -38.506</td> <td>   -1.747</td>\n",
       "</tr>\n",
       "<tr>\n",
       "  <th>Shared room</th>                    <td>  -96.3910</td> <td>   15.181</td> <td>   -6.349</td> <td> 0.000</td> <td> -126.152</td> <td>  -66.630</td>\n",
       "</tr>\n",
       "</table>\n",
       "<table class=\"simpletable\">\n",
       "<tr>\n",
       "  <th>Omnibus:</th>       <td>12161.459</td> <th>  Durbin-Watson:     </th>   <td>   1.548</td>  \n",
       "</tr>\n",
       "<tr>\n",
       "  <th>Prob(Omnibus):</th>  <td> 0.000</td>   <th>  Jarque-Bera (JB):  </th> <td>58509105.113</td>\n",
       "</tr>\n",
       "<tr>\n",
       "  <th>Skew:</th>           <td>20.065</td>   <th>  Prob(JB):          </th>   <td>    0.00</td>  \n",
       "</tr>\n",
       "<tr>\n",
       "  <th>Kurtosis:</th>       <td>505.129</td>  <th>  Cond. No.          </th>   <td>3.70e+15</td>  \n",
       "</tr>\n",
       "</table><br/><br/>Notes:<br/>[1] R² is computed without centering (uncentered) since the model does not contain a constant.<br/>[2] Standard Errors assume that the covariance matrix of the errors is correctly specified.<br/>[3] The smallest eigenvalue is 2.05e-28. This might indicate that there are<br/>strong multicollinearity problems or that the design matrix is singular."
      ],
      "text/plain": [
       "<class 'statsmodels.iolib.summary.Summary'>\n",
       "\"\"\"\n",
       "                                 OLS Regression Results                                \n",
       "=======================================================================================\n",
       "Dep. Variable:                  price   R-squared (uncentered):                   0.046\n",
       "Model:                            OLS   Adj. R-squared (uncentered):              0.044\n",
       "Method:                 Least Squares   F-statistic:                              33.00\n",
       "Date:                Fri, 16 Dec 2022   Prob (F-statistic):                    3.42e-51\n",
       "Time:                        13:04:06   Log-Likelihood:                         -40504.\n",
       "No. Observations:                5534   AIC:                                  8.102e+04\n",
       "Df Residuals:                    5526   BIC:                                  8.108e+04\n",
       "Df Model:                           8                                                  \n",
       "Covariance Type:            nonrobust                                                  \n",
       "==================================================================================================\n",
       "                                     coef    std err          t      P>|t|      [0.025      0.975]\n",
       "--------------------------------------------------------------------------------------------------\n",
       "neighbourhood                     63.1123     18.420      3.426      0.001      27.002      99.223\n",
       "latitude                        -239.9167     41.028     -5.848      0.000    -320.348    -159.486\n",
       "minimum_nights                   -91.3247     16.962     -5.384      0.000    -124.578     -58.072\n",
       "number_of_reviews                -94.9477     15.550     -6.106      0.000    -125.431     -64.465\n",
       "calculated_host_listings_count   -88.0255     18.825     -4.676      0.000    -124.931     -51.120\n",
       "availability_365                  61.6225     14.151      4.355      0.000      33.881      89.364\n",
       "Entire home/apt                  116.5176      9.500     12.264      0.000      97.893     135.142\n",
       "Private room                     -20.1266      9.376     -2.147      0.032     -38.506      -1.747\n",
       "Shared room                      -96.3910     15.181     -6.349      0.000    -126.152     -66.630\n",
       "==============================================================================\n",
       "Omnibus:                    12161.459   Durbin-Watson:                   1.548\n",
       "Prob(Omnibus):                  0.000   Jarque-Bera (JB):         58509105.113\n",
       "Skew:                          20.065   Prob(JB):                         0.00\n",
       "Kurtosis:                     505.129   Cond. No.                     3.70e+15\n",
       "==============================================================================\n",
       "\n",
       "Notes:\n",
       "[1] R² is computed without centering (uncentered) since the model does not contain a constant.\n",
       "[2] Standard Errors assume that the covariance matrix of the errors is correctly specified.\n",
       "[3] The smallest eigenvalue is 2.05e-28. This might indicate that there are\n",
       "strong multicollinearity problems or that the design matrix is singular.\n",
       "\"\"\""
      ]
     },
     "execution_count": 66,
     "metadata": {},
     "output_type": "execute_result"
    }
   ],
   "source": [
    "# Create a model using statsmodel.api: the Ordinary Least Squares (OLS) method and fit function\n",
    "ols = sm.OLS(y_train, X_train_scaled).fit()\n",
    "\n",
    "# Summary statistics from the model\n",
    "ols.summary()"
   ]
  },
  {
   "cell_type": "markdown",
   "metadata": {},
   "source": [
    "## 2.4 Export the data <a id = \"2.4\"></a>\n",
    "\n",
    "[Back to top](#top)"
   ]
  },
  {
   "cell_type": "code",
   "execution_count": 67,
   "metadata": {},
   "outputs": [],
   "source": [
    "airbnb_final_Xtrain = X_train_scaled\n",
    "airbnb_final_Xtest = X_test\n",
    "airbnb_final_ytrain = y_train\n",
    "airbnb_final_ytest = y_test\n",
    "\n",
    "airbnb_final_Xtrain.to_csv('airbnb_final_Xtrain.csv', index = False, sep = ',', encoding = 'utf-8')\n",
    "airbnb_final_Xtest.to_csv('airbnb_final_Xtest.csv', index = False, sep = ',', encoding = 'utf-8')\n",
    "airbnb_final_ytrain.to_csv('airbnb_final_ytrain.csv', index = False, sep = ',', encoding = 'utf-8')\n",
    "airbnb_final_ytest.to_csv('airbnb_final_ytest.csv', index = False, sep = ',', encoding = 'utf-8')"
   ]
  },
  {
   "cell_type": "markdown",
   "metadata": {},
   "source": [
    "# 3 Unlisted YouTube Video <a id = \"3\"></a>\n",
    "\n",
    "[Back to top](#top)\n",
    "\n",
    "https://youtu.be/pLwhdRoc0TU"
   ]
  }
 ],
 "metadata": {
  "kernelspec": {
   "display_name": "Python 3 (ipykernel)",
   "language": "python",
   "name": "python3"
  },
  "language_info": {
   "codemirror_mode": {
    "name": "ipython",
    "version": 3
   },
   "file_extension": ".py",
   "mimetype": "text/x-python",
   "name": "python",
   "nbconvert_exporter": "python",
   "pygments_lexer": "ipython3",
   "version": "3.9.7"
  }
 },
 "nbformat": 4,
 "nbformat_minor": 2
}
